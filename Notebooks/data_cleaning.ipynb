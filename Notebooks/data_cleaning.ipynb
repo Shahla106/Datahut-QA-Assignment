{
 "cells": [
  {
   "cell_type": "code",
   "execution_count": 6,
   "id": "99d6d536-7bd9-4634-a0a9-f60f473faf4f",
   "metadata": {},
   "outputs": [
    {
     "name": "stdout",
     "output_type": "stream",
     "text": [
      "C:\\Users\\Hp\\Datahut-QA-Assignment\\Notebooks\n"
     ]
    }
   ],
   "source": [
    "import os\n",
    "print(os.getcwd())\n"
   ]
  },
  {
   "cell_type": "code",
   "execution_count": 4,
   "id": "73ad0b3c-1661-4436-8077-848603f778ad",
   "metadata": {},
   "outputs": [],
   "source": [
    "import pandas as pd\n",
    "\n",
    "df = pd.read_csv('../data/cleaned_dataset.csv')  # or use messy_Data.csv if you're still cleaning\n"
   ]
  },
  {
   "cell_type": "code",
   "execution_count": 2,
   "id": "b6969e94-9406-4d28-969a-bae64d699e81",
   "metadata": {},
   "outputs": [
    {
     "name": "stdout",
     "output_type": "stream",
     "text": [
      "Dataset shape: (11000, 8)\n"
     ]
    },
    {
     "data": {
      "text/html": [
       "<div>\n",
       "<style scoped>\n",
       "    .dataframe tbody tr th:only-of-type {\n",
       "        vertical-align: middle;\n",
       "    }\n",
       "\n",
       "    .dataframe tbody tr th {\n",
       "        vertical-align: top;\n",
       "    }\n",
       "\n",
       "    .dataframe thead th {\n",
       "        text-align: right;\n",
       "    }\n",
       "</style>\n",
       "<table border=\"1\" class=\"dataframe\">\n",
       "  <thead>\n",
       "    <tr style=\"text-align: right;\">\n",
       "      <th></th>\n",
       "      <th>Unnamed: 0</th>\n",
       "      <th>ID</th>\n",
       "      <th>Name</th>\n",
       "      <th>Age</th>\n",
       "      <th>Email</th>\n",
       "      <th>Join Date</th>\n",
       "      <th>Salary</th>\n",
       "      <th>Department</th>\n",
       "    </tr>\n",
       "  </thead>\n",
       "  <tbody>\n",
       "    <tr>\n",
       "      <th>0</th>\n",
       "      <td>0</td>\n",
       "      <td>1e407ff9-6255-489d-a0de-34135d4f74bd</td>\n",
       "      <td>Hunter Thomas</td>\n",
       "      <td>25.0</td>\n",
       "      <td>xlopez@hotmail.com</td>\n",
       "      <td>NaN</td>\n",
       "      <td>88552.0</td>\n",
       "      <td>Sales</td>\n",
       "    </tr>\n",
       "    <tr>\n",
       "      <th>1</th>\n",
       "      <td>1</td>\n",
       "      <td>379f55b8-87d5-4739-a146-7400b78c24d1</td>\n",
       "      <td>Jeremy Irwin</td>\n",
       "      <td>90.0</td>\n",
       "      <td>Jillian Jenkins</td>\n",
       "      <td>2022-07-07</td>\n",
       "      <td>139227.0</td>\n",
       "      <td>NaN</td>\n",
       "    </tr>\n",
       "    <tr>\n",
       "      <th>2</th>\n",
       "      <td>2</td>\n",
       "      <td>18261368-dfa1-47f0-afc6-bddf45926b07</td>\n",
       "      <td>Jennifer Hammondquickly</td>\n",
       "      <td>66.0</td>\n",
       "      <td>jscottgreen.biz</td>\n",
       "      <td>2023-11-21</td>\n",
       "      <td>65550.0</td>\n",
       "      <td>Engineering</td>\n",
       "    </tr>\n",
       "    <tr>\n",
       "      <th>3</th>\n",
       "      <td>3</td>\n",
       "      <td>ae7cf7cf-17cf-4c8b-9c44-4f61a9a238e5</td>\n",
       "      <td>Sydney Taylorso</td>\n",
       "      <td>39.0</td>\n",
       "      <td>luke56gonzalez.com</td>\n",
       "      <td>2021-11-05</td>\n",
       "      <td>139932.0</td>\n",
       "      <td>SupportJ</td>\n",
       "    </tr>\n",
       "    <tr>\n",
       "      <th>4</th>\n",
       "      <td>4</td>\n",
       "      <td>14ed3e6a-e0f5-4bbe-8d93-8665267f5c90</td>\n",
       "      <td>Julia Lee</td>\n",
       "      <td>71.0</td>\n",
       "      <td>figueroakayla@yahoo.com</td>\n",
       "      <td>NaN</td>\n",
       "      <td>143456.0</td>\n",
       "      <td>Marketing</td>\n",
       "    </tr>\n",
       "  </tbody>\n",
       "</table>\n",
       "</div>"
      ],
      "text/plain": [
       "   Unnamed: 0                                    ID                     Name  \\\n",
       "0           0  1e407ff9-6255-489d-a0de-34135d4f74bd            Hunter Thomas   \n",
       "1           1  379f55b8-87d5-4739-a146-7400b78c24d1             Jeremy Irwin   \n",
       "2           2  18261368-dfa1-47f0-afc6-bddf45926b07  Jennifer Hammondquickly   \n",
       "3           3  ae7cf7cf-17cf-4c8b-9c44-4f61a9a238e5          Sydney Taylorso   \n",
       "4           4  14ed3e6a-e0f5-4bbe-8d93-8665267f5c90                Julia Lee   \n",
       "\n",
       "    Age                    Email   Join Date    Salary   Department  \n",
       "0  25.0       xlopez@hotmail.com         NaN   88552.0        Sales  \n",
       "1  90.0          Jillian Jenkins  2022-07-07  139227.0          NaN  \n",
       "2  66.0          jscottgreen.biz  2023-11-21   65550.0  Engineering  \n",
       "3  39.0       luke56gonzalez.com  2021-11-05  139932.0     SupportJ  \n",
       "4  71.0  figueroakayla@yahoo.com         NaN  143456.0    Marketing  "
      ]
     },
     "execution_count": 2,
     "metadata": {},
     "output_type": "execute_result"
    }
   ],
   "source": [
    "import pandas as pd\n",
    "df = pd.read_csv('../data/messy_Data.csv')  # Adjust path if needed\n",
    "\n",
    "# Preview the data\n",
    "print(\"Dataset shape:\", df.shape)\n",
    "df.head()\n"
   ]
  },
  {
   "cell_type": "code",
   "execution_count": 3,
   "id": "112ea677-cd82-4f4f-b5e8-cc4f35c41f26",
   "metadata": {},
   "outputs": [
    {
     "name": "stdout",
     "output_type": "stream",
     "text": [
      "Missing values per column:\n",
      "Unnamed: 0       0\n",
      "ID               0\n",
      "Name          2333\n",
      "Age           1747\n",
      "Email         1269\n",
      "Join Date     2192\n",
      "Salary        2239\n",
      "Department    2255\n",
      "dtype: int64\n",
      "\n",
      "Duplicate rows:\n",
      "291\n",
      "\n",
      "Invalid emails:\n"
     ]
    },
    {
     "data": {
      "text/html": [
       "<div>\n",
       "<style scoped>\n",
       "    .dataframe tbody tr th:only-of-type {\n",
       "        vertical-align: middle;\n",
       "    }\n",
       "\n",
       "    .dataframe tbody tr th {\n",
       "        vertical-align: top;\n",
       "    }\n",
       "\n",
       "    .dataframe thead th {\n",
       "        text-align: right;\n",
       "    }\n",
       "</style>\n",
       "<table border=\"1\" class=\"dataframe\">\n",
       "  <thead>\n",
       "    <tr style=\"text-align: right;\">\n",
       "      <th></th>\n",
       "      <th>Unnamed: 0</th>\n",
       "      <th>ID</th>\n",
       "      <th>Name</th>\n",
       "      <th>Age</th>\n",
       "      <th>Email</th>\n",
       "      <th>Join Date</th>\n",
       "      <th>Salary</th>\n",
       "      <th>Department</th>\n",
       "    </tr>\n",
       "  </thead>\n",
       "  <tbody>\n",
       "    <tr>\n",
       "      <th>1</th>\n",
       "      <td>1</td>\n",
       "      <td>379f55b8-87d5-4739-a146-7400b78c24d1</td>\n",
       "      <td>Jeremy Irwin</td>\n",
       "      <td>90.0</td>\n",
       "      <td>Jillian Jenkins</td>\n",
       "      <td>2022-07-07</td>\n",
       "      <td>139227.0</td>\n",
       "      <td>NaN</td>\n",
       "    </tr>\n",
       "    <tr>\n",
       "      <th>2</th>\n",
       "      <td>2</td>\n",
       "      <td>18261368-dfa1-47f0-afc6-bddf45926b07</td>\n",
       "      <td>Jennifer Hammondquickly</td>\n",
       "      <td>66.0</td>\n",
       "      <td>jscottgreen.biz</td>\n",
       "      <td>2023-11-21</td>\n",
       "      <td>65550.0</td>\n",
       "      <td>Engineering</td>\n",
       "    </tr>\n",
       "    <tr>\n",
       "      <th>3</th>\n",
       "      <td>3</td>\n",
       "      <td>ae7cf7cf-17cf-4c8b-9c44-4f61a9a238e5</td>\n",
       "      <td>Sydney Taylorso</td>\n",
       "      <td>39.0</td>\n",
       "      <td>luke56gonzalez.com</td>\n",
       "      <td>2021-11-05</td>\n",
       "      <td>139932.0</td>\n",
       "      <td>SupportJ</td>\n",
       "    </tr>\n",
       "    <tr>\n",
       "      <th>6</th>\n",
       "      <td>6</td>\n",
       "      <td>c4892dbb-2554-4ce1-8f11-f6597d7f6782</td>\n",
       "      <td>Patricia Brown DVM</td>\n",
       "      <td>66.0</td>\n",
       "      <td>pperkinshotmail.com</td>\n",
       "      <td>17/09/2020</td>\n",
       "      <td>77311.0</td>\n",
       "      <td>HR</td>\n",
       "    </tr>\n",
       "    <tr>\n",
       "      <th>7</th>\n",
       "      <td>7</td>\n",
       "      <td>465e625b-f924-4061-8356-c7e3130f7118</td>\n",
       "      <td>Derek Murphy</td>\n",
       "      <td>38.0</td>\n",
       "      <td>josephrobertsongmail.com</td>\n",
       "      <td>2021-01-12</td>\n",
       "      <td>NaN</td>\n",
       "      <td>Support</td>\n",
       "    </tr>\n",
       "    <tr>\n",
       "      <th>...</th>\n",
       "      <td>...</td>\n",
       "      <td>...</td>\n",
       "      <td>...</td>\n",
       "      <td>...</td>\n",
       "      <td>...</td>\n",
       "      <td>...</td>\n",
       "      <td>...</td>\n",
       "      <td>...</td>\n",
       "    </tr>\n",
       "    <tr>\n",
       "      <th>10978</th>\n",
       "      <td>3054</td>\n",
       "      <td>1ea7f125-698d-49dc-a97a-955b4dc4fc9b</td>\n",
       "      <td>NaN</td>\n",
       "      <td>NaN</td>\n",
       "      <td>NaN</td>\n",
       "      <td>NaN</td>\n",
       "      <td>NaN</td>\n",
       "      <td>NaN</td>\n",
       "    </tr>\n",
       "    <tr>\n",
       "      <th>10988</th>\n",
       "      <td>6403</td>\n",
       "      <td>4edd1e6e-cfb5-4300-9c74-e9642836e134</td>\n",
       "      <td>NaN</td>\n",
       "      <td>NaN</td>\n",
       "      <td>NaN</td>\n",
       "      <td>NaN</td>\n",
       "      <td>NaN</td>\n",
       "      <td>NaN</td>\n",
       "    </tr>\n",
       "    <tr>\n",
       "      <th>10993</th>\n",
       "      <td>9510</td>\n",
       "      <td>796f8c0b-15a4-475c-bb02-ac892df0c746</td>\n",
       "      <td>Shelley Hopkinslive</td>\n",
       "      <td>79.0</td>\n",
       "      <td>Michael Walker</td>\n",
       "      <td>25/12/1992</td>\n",
       "      <td>47809.0</td>\n",
       "      <td>HR</td>\n",
       "    </tr>\n",
       "    <tr>\n",
       "      <th>10995</th>\n",
       "      <td>6523</td>\n",
       "      <td>07c223be-03e6-4f70-a2b5-86df778cc61a</td>\n",
       "      <td>NaN</td>\n",
       "      <td>NaN</td>\n",
       "      <td>NaN</td>\n",
       "      <td>NaN</td>\n",
       "      <td>NaN</td>\n",
       "      <td>NaN</td>\n",
       "    </tr>\n",
       "    <tr>\n",
       "      <th>10996</th>\n",
       "      <td>9785</td>\n",
       "      <td>da8a6bbc-5026-4630-848d-f64e80dac56c</td>\n",
       "      <td>Steven Armstrong</td>\n",
       "      <td>38.0</td>\n",
       "      <td>molly89gmail.com</td>\n",
       "      <td>2021-06-24</td>\n",
       "      <td>NaN</td>\n",
       "      <td>Sales</td>\n",
       "    </tr>\n",
       "  </tbody>\n",
       "</table>\n",
       "<p>3699 rows × 8 columns</p>\n",
       "</div>"
      ],
      "text/plain": [
       "       Unnamed: 0                                    ID  \\\n",
       "1               1  379f55b8-87d5-4739-a146-7400b78c24d1   \n",
       "2               2  18261368-dfa1-47f0-afc6-bddf45926b07   \n",
       "3               3  ae7cf7cf-17cf-4c8b-9c44-4f61a9a238e5   \n",
       "6               6  c4892dbb-2554-4ce1-8f11-f6597d7f6782   \n",
       "7               7  465e625b-f924-4061-8356-c7e3130f7118   \n",
       "...           ...                                   ...   \n",
       "10978        3054  1ea7f125-698d-49dc-a97a-955b4dc4fc9b   \n",
       "10988        6403  4edd1e6e-cfb5-4300-9c74-e9642836e134   \n",
       "10993        9510  796f8c0b-15a4-475c-bb02-ac892df0c746   \n",
       "10995        6523  07c223be-03e6-4f70-a2b5-86df778cc61a   \n",
       "10996        9785  da8a6bbc-5026-4630-848d-f64e80dac56c   \n",
       "\n",
       "                          Name   Age                     Email   Join Date  \\\n",
       "1                 Jeremy Irwin  90.0           Jillian Jenkins  2022-07-07   \n",
       "2      Jennifer Hammondquickly  66.0           jscottgreen.biz  2023-11-21   \n",
       "3              Sydney Taylorso  39.0        luke56gonzalez.com  2021-11-05   \n",
       "6           Patricia Brown DVM  66.0       pperkinshotmail.com  17/09/2020   \n",
       "7                 Derek Murphy  38.0  josephrobertsongmail.com  2021-01-12   \n",
       "...                        ...   ...                       ...         ...   \n",
       "10978                      NaN   NaN                       NaN         NaN   \n",
       "10988                      NaN   NaN                       NaN         NaN   \n",
       "10993      Shelley Hopkinslive  79.0            Michael Walker  25/12/1992   \n",
       "10995                      NaN   NaN                       NaN         NaN   \n",
       "10996         Steven Armstrong  38.0          molly89gmail.com  2021-06-24   \n",
       "\n",
       "         Salary   Department  \n",
       "1      139227.0          NaN  \n",
       "2       65550.0  Engineering  \n",
       "3      139932.0     SupportJ  \n",
       "6       77311.0           HR  \n",
       "7           NaN      Support  \n",
       "...         ...          ...  \n",
       "10978       NaN          NaN  \n",
       "10988       NaN          NaN  \n",
       "10993   47809.0           HR  \n",
       "10995       NaN          NaN  \n",
       "10996       NaN        Sales  \n",
       "\n",
       "[3699 rows x 8 columns]"
      ]
     },
     "metadata": {},
     "output_type": "display_data"
    },
    {
     "name": "stdout",
     "output_type": "stream",
     "text": [
      "\n",
      "Unique departments:\n",
      "['Sales' nan 'Engineering' 'SupportJ' 'Marketing' 'SupportE' 'HR'\n",
      " 'Support' 'HRC' 'SalesA' 'SalesX' 'Supportu' 'Engineeringi' 'MarketingR'\n",
      " 'Salesw' 'SalesK' 'MarketingU' 'Salesi' 'HRa' 'SalesG' 'Supporty'\n",
      " 'SalesN' 'Marketinge' 'Marketingv' 'HRv' 'SalesM' 'EngineeringL'\n",
      " 'MarketingQ' 'HRs' 'SalesW' 'Supportj' 'Salesd' 'Marketingu'\n",
      " 'Engineeringj' 'SalesU' 'HRO' 'MarketingH' 'Salesj' 'Saleso' 'SalesZ'\n",
      " 'Engineeringe' 'MarketingF' 'Marketingr' 'Engineeringm' 'HRW' 'HRt' 'HRz'\n",
      " 'Engineeringp' 'HRF' 'EngineeringS' 'SupportW' 'EngineeringT' 'SalesC'\n",
      " 'SalesB' 'SupportC' 'SalesY' 'Marketingn' 'EngineeringK' 'Marketingz'\n",
      " 'HRo' 'SupportB' 'HRi' 'Salest' 'Supportg' 'Supporta' 'HRn' 'SupportQ'\n",
      " 'Salesr' 'EngineeringG' 'Supportm' 'Supporto' 'EngineeringH' 'Marketingw'\n",
      " 'EngineeringM' 'Supportz' 'HRr' 'Salesy' 'MarketingD' 'HRE' 'Marketingm'\n",
      " 'HRw' 'Marketingo' 'Supportk' 'MarketingN' 'SupportS' 'EngineeringD'\n",
      " 'Marketingp' 'Salesl' 'MarketingI' 'MarketingL' 'SupportT' 'Engineeringn'\n",
      " 'MarketingO' 'SalesF' 'Salesz' 'Marketingt' 'Engineeringv' 'HRL' 'HRI'\n",
      " 'EngineeringR' 'HRD' 'Marketingk' 'HRQ' 'Salese' 'Saless' 'Marketingi'\n",
      " 'Salesn' 'Engineeringl' 'SalesE' 'HRy' 'EngineeringE' 'SalesD' 'HRm'\n",
      " 'Engineerings' 'SupportF' 'Marketingy' 'MarketingG' 'SalesI' 'Salesu'\n",
      " 'Engineeringg' 'EngineeringQ' 'MarketingE' 'SupportA' 'Engineeringq'\n",
      " 'EngineeringA' 'Supporte' 'Engineeringu' 'EngineeringO' 'SalesS'\n",
      " 'Supportv' 'HRK' 'Engineeringb' 'SalesV' 'HRT' 'SupportY' 'SalesQ'\n",
      " 'MarketingX' 'Supportp' 'Marketingf' 'HRU' 'HRp' 'Salesq' 'HRg'\n",
      " 'Marketingl' 'EngineeringV' 'Engineeringt' 'SupportO' 'SalesJ'\n",
      " 'EngineeringX' 'Engineeringc' 'Marketingh' 'EngineeringC' 'Engineeringz'\n",
      " 'HRP' 'Salesv' 'Engineeringk' 'SupportH' 'Salesk' 'Supporth' 'SupportZ'\n",
      " 'Supportq' 'Supportr' 'HRJ' 'Supportd' 'HRZ' 'MarketingZ' 'Salesc'\n",
      " 'EngineeringJ' 'Engineeringx' 'SalesR' 'Engineeringh' 'Supportl'\n",
      " 'SupportX' 'Marketingg' 'SalesH' 'MarketingC' 'SupportV' 'HRq'\n",
      " 'Marketingb' 'Supporti' 'Supportw' 'SupportL' 'Marketings' 'Marketingq'\n",
      " 'HRM' 'Supportt' 'HRX' 'HRl' 'EngineeringF' 'SupportP' 'HRf' 'MarketingB'\n",
      " 'Engineeringf' 'EngineeringW' 'HRB' 'Engineeringy' 'Marketinga' 'HRj'\n",
      " 'HRd' 'SupportI' 'HRA' 'Marketingj' 'MarketingV' 'EngineeringI' 'HRY'\n",
      " 'EngineeringZ' 'MarketingY' 'Marketingx' 'HRH' 'HRN' 'MarketingJ'\n",
      " 'MarketingW' 'HRh' 'Supportb' 'SalesT' 'Supportn' 'Engineeringa'\n",
      " 'SupportG' 'SalesO' 'SupportK' 'Engineeringd' 'HRk' 'Marketingd'\n",
      " 'MarketingS' 'MarketingT' 'HRR' 'Engineeringw' 'Salesg' 'HRb' 'SupportN'\n",
      " 'Marketingc' 'EngineeringU' 'Supportx' 'Salesp' 'HRu' 'MarketingK'\n",
      " 'SalesL' 'Salesx' 'SupportD' 'Supports' 'Salesm' 'Engineeringr' 'HRe'\n",
      " 'SupportM' 'MarketingM' 'SupportR' 'SupportU' 'Salesa' 'Salesf'\n",
      " 'Supportf' 'Salesh' 'Salesb' 'EngineeringB' 'HRG' 'Engineeringo'\n",
      " 'EngineeringN' 'HRV' 'HRS' 'SalesP' 'Supportc' 'HRx' 'EngineeringP' 'HRc'\n",
      " 'MarketingP' 'MarketingA']\n"
     ]
    },
    {
     "data": {
      "text/plain": [
       "6918      Tracey Richardstoo\n",
       "2548                     NaN\n",
       "6501           Tristan Davis\n",
       "6694             Nathan Ross\n",
       "2398          John Chanready\n",
       "6206     Joshua Anderson DDS\n",
       "978                      NaN\n",
       "10639                    NaN\n",
       "4369          Cynthia Garcia\n",
       "5429           Nicole Chavez\n",
       "Name: Name, dtype: object"
      ]
     },
     "execution_count": 3,
     "metadata": {},
     "output_type": "execute_result"
    }
   ],
   "source": [
    "# Null values\n",
    "print(\"Missing values per column:\")\n",
    "print(df.isnull().sum())\n",
    "\n",
    "# Duplicates\n",
    "print(\"\\nDuplicate rows:\")\n",
    "print(df.duplicated().sum())\n",
    "\n",
    "# Check email issues\n",
    "print(\"\\nInvalid emails:\")\n",
    "invalid_emails = df[~df['Email'].str.contains(r'^[\\w\\.-]+@[\\w\\.-]+\\.\\w+$', na=False)]\n",
    "display(invalid_emails)\n",
    "\n",
    "# Check department typos\n",
    "print(\"\\nUnique departments:\")\n",
    "print(df['Department'].unique())\n",
    "\n",
    "# Check noisy name field\n",
    "df['Name'].sample(10)\n"
   ]
  },
  {
   "cell_type": "code",
   "execution_count": 4,
   "id": "607f6cfa-a6db-432f-80c9-473c65dd5c55",
   "metadata": {},
   "outputs": [
    {
     "name": "stdout",
     "output_type": "stream",
     "text": [
      "Missing IDs: 0\n",
      "Duplicate IDs: 1000\n"
     ]
    }
   ],
   "source": [
    "# Check for missing IDs\n",
    "print(\"Missing IDs:\", df['ID'].isnull().sum())\n",
    "\n",
    "# Check for duplicate IDs\n",
    "print(\"Duplicate IDs:\", df['ID'].duplicated().sum())\n"
   ]
  },
  {
   "cell_type": "code",
   "execution_count": 7,
   "id": "005cb430-bfcc-455b-b741-d13a0760aef3",
   "metadata": {},
   "outputs": [
    {
     "data": {
      "text/html": [
       "<div>\n",
       "<style scoped>\n",
       "    .dataframe tbody tr th:only-of-type {\n",
       "        vertical-align: middle;\n",
       "    }\n",
       "\n",
       "    .dataframe tbody tr th {\n",
       "        vertical-align: top;\n",
       "    }\n",
       "\n",
       "    .dataframe thead th {\n",
       "        text-align: right;\n",
       "    }\n",
       "</style>\n",
       "<table border=\"1\" class=\"dataframe\">\n",
       "  <thead>\n",
       "    <tr style=\"text-align: right;\">\n",
       "      <th></th>\n",
       "      <th>Unnamed: 0</th>\n",
       "      <th>ID</th>\n",
       "      <th>Name</th>\n",
       "      <th>Age</th>\n",
       "      <th>Email</th>\n",
       "      <th>Join Date</th>\n",
       "      <th>Salary</th>\n",
       "      <th>Department</th>\n",
       "    </tr>\n",
       "  </thead>\n",
       "  <tbody>\n",
       "  </tbody>\n",
       "</table>\n",
       "</div>"
      ],
      "text/plain": [
       "Empty DataFrame\n",
       "Columns: [Unnamed: 0, ID, Name, Age, Email, Join Date, Salary, Department]\n",
       "Index: []"
      ]
     },
     "execution_count": 7,
     "metadata": {},
     "output_type": "execute_result"
    }
   ],
   "source": [
    "# Check age range\n",
    "df['Age'].describe()\n",
    "\n",
    "# Show extreme ages\n",
    "df[(df['Age'] < 15) | (df['Age'] > 100)]\n"
   ]
  },
  {
   "cell_type": "code",
   "execution_count": 16,
   "id": "22167881-5ec1-47c9-82b2-e2cf24cd70e2",
   "metadata": {},
   "outputs": [],
   "source": [
    "# Keep only rows where Age is less than or equal to 65\n",
    "df = df[df['Age'] <= 65]\n"
   ]
  },
  {
   "cell_type": "code",
   "execution_count": 8,
   "id": "f091e6d5-e7c3-47ba-b413-f155d86988a3",
   "metadata": {},
   "outputs": [
    {
     "data": {
      "text/plain": [
       "dtype('float64')"
      ]
     },
     "execution_count": 8,
     "metadata": {},
     "output_type": "execute_result"
    }
   ],
   "source": [
    "df['Age'].dtype\n"
   ]
  },
  {
   "cell_type": "code",
   "execution_count": 9,
   "id": "144939b3-fe5d-4725-9f53-41d574039be0",
   "metadata": {},
   "outputs": [],
   "source": [
    "df['Age'] = pd.to_numeric(df['Age'], errors='coerce')\n"
   ]
  },
  {
   "cell_type": "code",
   "execution_count": 10,
   "id": "289211d2-b13d-4371-9395-97d52b13daf2",
   "metadata": {},
   "outputs": [
    {
     "data": {
      "text/plain": [
       "count    9253.000000\n",
       "mean       54.162650\n",
       "std        21.072919\n",
       "min        18.000000\n",
       "25%        36.000000\n",
       "50%        54.000000\n",
       "75%        72.000000\n",
       "max        90.000000\n",
       "Name: Age, dtype: float64"
      ]
     },
     "execution_count": 10,
     "metadata": {},
     "output_type": "execute_result"
    }
   ],
   "source": [
    "df['Age'].describe()\n"
   ]
  },
  {
   "cell_type": "code",
   "execution_count": 11,
   "id": "7b05f037-1d32-4593-a4e2-57090f0044c9",
   "metadata": {},
   "outputs": [
    {
     "data": {
      "text/html": [
       "<div>\n",
       "<style scoped>\n",
       "    .dataframe tbody tr th:only-of-type {\n",
       "        vertical-align: middle;\n",
       "    }\n",
       "\n",
       "    .dataframe tbody tr th {\n",
       "        vertical-align: top;\n",
       "    }\n",
       "\n",
       "    .dataframe thead th {\n",
       "        text-align: right;\n",
       "    }\n",
       "</style>\n",
       "<table border=\"1\" class=\"dataframe\">\n",
       "  <thead>\n",
       "    <tr style=\"text-align: right;\">\n",
       "      <th></th>\n",
       "      <th>Unnamed: 0</th>\n",
       "      <th>ID</th>\n",
       "      <th>Name</th>\n",
       "      <th>Age</th>\n",
       "      <th>Email</th>\n",
       "      <th>Join Date</th>\n",
       "      <th>Salary</th>\n",
       "      <th>Department</th>\n",
       "    </tr>\n",
       "  </thead>\n",
       "  <tbody>\n",
       "  </tbody>\n",
       "</table>\n",
       "</div>"
      ],
      "text/plain": [
       "Empty DataFrame\n",
       "Columns: [Unnamed: 0, ID, Name, Age, Email, Join Date, Salary, Department]\n",
       "Index: []"
      ]
     },
     "execution_count": 11,
     "metadata": {},
     "output_type": "execute_result"
    }
   ],
   "source": [
    "df[(df['Age'] < 15) | (df['Age'] > 100)]\n"
   ]
  },
  {
   "cell_type": "code",
   "execution_count": 12,
   "id": "93d77b54-9a1e-490d-b6a2-71577d774a39",
   "metadata": {},
   "outputs": [],
   "source": [
    "df = df[(df['Age'] >= 15) & (df['Age'] <= 100)]\n"
   ]
  },
  {
   "cell_type": "code",
   "execution_count": 14,
   "id": "e28fe52a-edcf-4566-ac6c-845fdf2a2cd6",
   "metadata": {},
   "outputs": [
    {
     "name": "stdout",
     "output_type": "stream",
     "text": [
      "Invalid emails: 2309\n"
     ]
    },
    {
     "data": {
      "text/html": [
       "<div>\n",
       "<style scoped>\n",
       "    .dataframe tbody tr th:only-of-type {\n",
       "        vertical-align: middle;\n",
       "    }\n",
       "\n",
       "    .dataframe tbody tr th {\n",
       "        vertical-align: top;\n",
       "    }\n",
       "\n",
       "    .dataframe thead th {\n",
       "        text-align: right;\n",
       "    }\n",
       "</style>\n",
       "<table border=\"1\" class=\"dataframe\">\n",
       "  <thead>\n",
       "    <tr style=\"text-align: right;\">\n",
       "      <th></th>\n",
       "      <th>Unnamed: 0</th>\n",
       "      <th>ID</th>\n",
       "      <th>Name</th>\n",
       "      <th>Age</th>\n",
       "      <th>Email</th>\n",
       "      <th>Join Date</th>\n",
       "      <th>Salary</th>\n",
       "      <th>Department</th>\n",
       "    </tr>\n",
       "  </thead>\n",
       "  <tbody>\n",
       "    <tr>\n",
       "      <th>1</th>\n",
       "      <td>1</td>\n",
       "      <td>379f55b8-87d5-4739-a146-7400b78c24d1</td>\n",
       "      <td>Jeremy Irwin</td>\n",
       "      <td>90.0</td>\n",
       "      <td>Jillian Jenkins</td>\n",
       "      <td>2022-07-07</td>\n",
       "      <td>139227.0</td>\n",
       "      <td>NaN</td>\n",
       "    </tr>\n",
       "    <tr>\n",
       "      <th>2</th>\n",
       "      <td>2</td>\n",
       "      <td>18261368-dfa1-47f0-afc6-bddf45926b07</td>\n",
       "      <td>Jennifer Hammondquickly</td>\n",
       "      <td>66.0</td>\n",
       "      <td>jscottgreen.biz</td>\n",
       "      <td>2023-11-21</td>\n",
       "      <td>65550.0</td>\n",
       "      <td>Engineering</td>\n",
       "    </tr>\n",
       "    <tr>\n",
       "      <th>3</th>\n",
       "      <td>3</td>\n",
       "      <td>ae7cf7cf-17cf-4c8b-9c44-4f61a9a238e5</td>\n",
       "      <td>Sydney Taylorso</td>\n",
       "      <td>39.0</td>\n",
       "      <td>luke56gonzalez.com</td>\n",
       "      <td>2021-11-05</td>\n",
       "      <td>139932.0</td>\n",
       "      <td>SupportJ</td>\n",
       "    </tr>\n",
       "    <tr>\n",
       "      <th>6</th>\n",
       "      <td>6</td>\n",
       "      <td>c4892dbb-2554-4ce1-8f11-f6597d7f6782</td>\n",
       "      <td>Patricia Brown DVM</td>\n",
       "      <td>66.0</td>\n",
       "      <td>pperkinshotmail.com</td>\n",
       "      <td>17/09/2020</td>\n",
       "      <td>77311.0</td>\n",
       "      <td>HR</td>\n",
       "    </tr>\n",
       "    <tr>\n",
       "      <th>7</th>\n",
       "      <td>7</td>\n",
       "      <td>465e625b-f924-4061-8356-c7e3130f7118</td>\n",
       "      <td>Derek Murphy</td>\n",
       "      <td>38.0</td>\n",
       "      <td>josephrobertsongmail.com</td>\n",
       "      <td>2021-01-12</td>\n",
       "      <td>NaN</td>\n",
       "      <td>Support</td>\n",
       "    </tr>\n",
       "  </tbody>\n",
       "</table>\n",
       "</div>"
      ],
      "text/plain": [
       "   Unnamed: 0                                    ID                     Name  \\\n",
       "1           1  379f55b8-87d5-4739-a146-7400b78c24d1             Jeremy Irwin   \n",
       "2           2  18261368-dfa1-47f0-afc6-bddf45926b07  Jennifer Hammondquickly   \n",
       "3           3  ae7cf7cf-17cf-4c8b-9c44-4f61a9a238e5          Sydney Taylorso   \n",
       "6           6  c4892dbb-2554-4ce1-8f11-f6597d7f6782       Patricia Brown DVM   \n",
       "7           7  465e625b-f924-4061-8356-c7e3130f7118             Derek Murphy   \n",
       "\n",
       "    Age                     Email   Join Date    Salary   Department  \n",
       "1  90.0           Jillian Jenkins  2022-07-07  139227.0          NaN  \n",
       "2  66.0           jscottgreen.biz  2023-11-21   65550.0  Engineering  \n",
       "3  39.0        luke56gonzalez.com  2021-11-05  139932.0     SupportJ  \n",
       "6  66.0       pperkinshotmail.com  17/09/2020   77311.0           HR  \n",
       "7  38.0  josephrobertsongmail.com  2021-01-12       NaN      Support  "
      ]
     },
     "execution_count": 14,
     "metadata": {},
     "output_type": "execute_result"
    }
   ],
   "source": [
    "# Emails that do NOT match the standard format\n",
    "invalid_emails = df[~df['Email'].str.contains(r'^[\\w\\.-]+@[\\w\\.-]+\\.\\w+$', na=False)]\n",
    "print(\"Invalid emails:\", invalid_emails.shape[0])\n",
    "invalid_emails.head()\n"
   ]
  },
  {
   "cell_type": "code",
   "execution_count": 15,
   "id": "d1173d40-9238-4510-a9c6-6e9da361af5f",
   "metadata": {
    "scrolled": true
   },
   "outputs": [
    {
     "name": "stdout",
     "output_type": "stream",
     "text": [
      "Personal emails: 4437\n"
     ]
    },
    {
     "data": {
      "text/html": [
       "<div>\n",
       "<style scoped>\n",
       "    .dataframe tbody tr th:only-of-type {\n",
       "        vertical-align: middle;\n",
       "    }\n",
       "\n",
       "    .dataframe tbody tr th {\n",
       "        vertical-align: top;\n",
       "    }\n",
       "\n",
       "    .dataframe thead th {\n",
       "        text-align: right;\n",
       "    }\n",
       "</style>\n",
       "<table border=\"1\" class=\"dataframe\">\n",
       "  <thead>\n",
       "    <tr style=\"text-align: right;\">\n",
       "      <th></th>\n",
       "      <th>Unnamed: 0</th>\n",
       "      <th>ID</th>\n",
       "      <th>Name</th>\n",
       "      <th>Age</th>\n",
       "      <th>Email</th>\n",
       "      <th>Join Date</th>\n",
       "      <th>Salary</th>\n",
       "      <th>Department</th>\n",
       "    </tr>\n",
       "  </thead>\n",
       "  <tbody>\n",
       "    <tr>\n",
       "      <th>0</th>\n",
       "      <td>0</td>\n",
       "      <td>1e407ff9-6255-489d-a0de-34135d4f74bd</td>\n",
       "      <td>Hunter Thomas</td>\n",
       "      <td>25.0</td>\n",
       "      <td>xlopez@hotmail.com</td>\n",
       "      <td>NaN</td>\n",
       "      <td>88552.0</td>\n",
       "      <td>Sales</td>\n",
       "    </tr>\n",
       "    <tr>\n",
       "      <th>4</th>\n",
       "      <td>4</td>\n",
       "      <td>14ed3e6a-e0f5-4bbe-8d93-8665267f5c90</td>\n",
       "      <td>Julia Lee</td>\n",
       "      <td>71.0</td>\n",
       "      <td>figueroakayla@yahoo.com</td>\n",
       "      <td>NaN</td>\n",
       "      <td>143456.0</td>\n",
       "      <td>Marketing</td>\n",
       "    </tr>\n",
       "    <tr>\n",
       "      <th>6</th>\n",
       "      <td>6</td>\n",
       "      <td>c4892dbb-2554-4ce1-8f11-f6597d7f6782</td>\n",
       "      <td>Patricia Brown DVM</td>\n",
       "      <td>66.0</td>\n",
       "      <td>pperkinshotmail.com</td>\n",
       "      <td>17/09/2020</td>\n",
       "      <td>77311.0</td>\n",
       "      <td>HR</td>\n",
       "    </tr>\n",
       "    <tr>\n",
       "      <th>7</th>\n",
       "      <td>7</td>\n",
       "      <td>465e625b-f924-4061-8356-c7e3130f7118</td>\n",
       "      <td>Derek Murphy</td>\n",
       "      <td>38.0</td>\n",
       "      <td>josephrobertsongmail.com</td>\n",
       "      <td>2021-01-12</td>\n",
       "      <td>NaN</td>\n",
       "      <td>Support</td>\n",
       "    </tr>\n",
       "    <tr>\n",
       "      <th>8</th>\n",
       "      <td>8</td>\n",
       "      <td>12cc2f16-d641-402e-b22b-3332bafc4f1d</td>\n",
       "      <td>NaN</td>\n",
       "      <td>71.0</td>\n",
       "      <td>andrew74@hotmail.com</td>\n",
       "      <td>2022-02-12</td>\n",
       "      <td>83354.0</td>\n",
       "      <td>Sales</td>\n",
       "    </tr>\n",
       "  </tbody>\n",
       "</table>\n",
       "</div>"
      ],
      "text/plain": [
       "   Unnamed: 0                                    ID                Name   Age  \\\n",
       "0           0  1e407ff9-6255-489d-a0de-34135d4f74bd       Hunter Thomas  25.0   \n",
       "4           4  14ed3e6a-e0f5-4bbe-8d93-8665267f5c90           Julia Lee  71.0   \n",
       "6           6  c4892dbb-2554-4ce1-8f11-f6597d7f6782  Patricia Brown DVM  66.0   \n",
       "7           7  465e625b-f924-4061-8356-c7e3130f7118        Derek Murphy  38.0   \n",
       "8           8  12cc2f16-d641-402e-b22b-3332bafc4f1d                 NaN  71.0   \n",
       "\n",
       "                      Email   Join Date    Salary Department  \n",
       "0        xlopez@hotmail.com         NaN   88552.0      Sales  \n",
       "4   figueroakayla@yahoo.com         NaN  143456.0  Marketing  \n",
       "6       pperkinshotmail.com  17/09/2020   77311.0         HR  \n",
       "7  josephrobertsongmail.com  2021-01-12       NaN    Support  \n",
       "8      andrew74@hotmail.com  2022-02-12   83354.0      Sales  "
      ]
     },
     "execution_count": 15,
     "metadata": {},
     "output_type": "execute_result"
    }
   ],
   "source": [
    "# Check for personal emails\n",
    "personal_emails = df[df['Email'].str.contains(r'gmail|yahoo|hotmail|rediff', case=False, na=False)]\n",
    "print(\"Personal emails:\", personal_emails.shape[0])\n",
    "personal_emails.head()\n"
   ]
  },
  {
   "cell_type": "code",
   "execution_count": 16,
   "id": "fde7e401-ab86-4185-94eb-8ad675dba947",
   "metadata": {},
   "outputs": [
    {
     "name": "stdout",
     "output_type": "stream",
     "text": [
      "Unique department names:\n",
      " ['Sales' nan 'Engineering' 'SupportJ' 'Marketing' 'SupportE' 'HR'\n",
      " 'Support' 'HRC' 'SalesA' 'Engineeringi' 'MarketingR' 'SalesX' 'Salesw'\n",
      " 'SalesK' 'MarketingU' 'Salesi' 'HRa' 'SalesG' 'Supporty' 'SalesN'\n",
      " 'Marketinge' 'Marketingv' 'HRv' 'SalesM' 'EngineeringL' 'MarketingQ'\n",
      " 'HRs' 'SalesW' 'Supportj' 'Salesd' 'Engineeringj' 'SalesU' 'HRO'\n",
      " 'MarketingH' 'Salesj' 'Saleso' 'SalesZ' 'Engineeringe' 'Marketingr'\n",
      " 'Engineeringm' 'HRW' 'HRz' 'Engineeringp' 'EngineeringS' 'SupportW'\n",
      " 'EngineeringT' 'SalesC' 'SalesB' 'SalesY' 'Marketingn' 'EngineeringK'\n",
      " 'Marketingz' 'HRo' 'SupportB' 'HRi' 'Salest' 'Supportg' 'Supporta' 'HRn'\n",
      " 'SupportQ' 'EngineeringG' 'SupportC' 'Supportm' 'Supporto' 'EngineeringH'\n",
      " 'Marketingw' 'EngineeringM' 'Supportz' 'HRr' 'Salesy' 'MarketingD' 'HRE'\n",
      " 'Supportu' 'Marketingm' 'HRw' 'Marketingo' 'Supportk' 'MarketingN'\n",
      " 'SupportS' 'EngineeringD' 'MarketingI' 'MarketingL' 'Salesr' 'SupportT'\n",
      " 'Engineeringn' 'MarketingO' 'SalesF' 'Salesz' 'Marketingt' 'Engineeringv'\n",
      " 'HRL' 'HRI' 'EngineeringR' 'HRD' 'HRQ' 'Salese' 'Saless' 'Marketingi'\n",
      " 'Salesn' 'Engineeringl' 'SalesE' 'HRy' 'EngineeringE' 'SalesD' 'HRm'\n",
      " 'Engineerings' 'SupportF' 'Marketingy' 'MarketingG' 'SalesI'\n",
      " 'Engineeringg' 'EngineeringQ' 'MarketingE' 'Marketingk' 'SupportA'\n",
      " 'Engineeringq' 'EngineeringA' 'Supporte' 'Engineeringu' 'EngineeringO'\n",
      " 'SalesS' 'Supportv' 'HRK' 'Engineeringb' 'SalesV' 'HRT' 'SupportY'\n",
      " 'SalesQ' 'MarketingX' 'Supportp' 'Marketingf' 'HRU' 'HRp' 'Salesq' 'HRg'\n",
      " 'Marketingl' 'EngineeringV' 'Engineeringt' 'SupportO' 'SalesJ'\n",
      " 'EngineeringX' 'Engineeringc' 'Marketingh' 'MarketingF' 'EngineeringC'\n",
      " 'Engineeringz' 'HRP' 'Salesv' 'Engineeringk' 'SupportH' 'Salesk'\n",
      " 'Supporth' 'SupportZ' 'Supportq' 'Supportr' 'HRJ' 'Supportd' 'HRZ'\n",
      " 'MarketingZ' 'Salesc' 'EngineeringJ' 'Engineeringx' 'Engineeringh'\n",
      " 'Supportl' 'SupportX' 'Marketingg' 'SalesH' 'MarketingC' 'SupportV' 'HRq'\n",
      " 'Marketingb' 'Supporti' 'Supportw' 'SupportL' 'Marketings' 'Marketingq'\n",
      " 'HRM' 'Supportt' 'HRX' 'HRl' 'EngineeringF' 'SupportP' 'HRf' 'MarketingB'\n",
      " 'Engineeringf' 'EngineeringW' 'HRB' 'Engineeringy' 'Marketinga' 'HRd'\n",
      " 'SupportI' 'HRA' 'Marketingj' 'EngineeringI' 'HRY' 'EngineeringZ'\n",
      " 'MarketingY' 'MarketingV' 'Marketingx' 'HRH' 'HRN' 'MarketingJ'\n",
      " 'MarketingW' 'HRh' 'Supportb' 'SalesT' 'Supportn' 'Engineeringa' 'Salesl'\n",
      " 'SupportG' 'SalesO' 'SalesR' 'SupportK' 'Engineeringd' 'HRk' 'Marketingd'\n",
      " 'MarketingS' 'MarketingT' 'HRR' 'Engineeringw' 'Salesg' 'HRj' 'HRb'\n",
      " 'SupportN' 'Marketingc' 'EngineeringU' 'Supportx' 'Salesp' 'HRu'\n",
      " 'MarketingK' 'SalesL' 'Salesx' 'Marketingu' 'SupportD' 'Salesu' 'Salesm'\n",
      " 'Engineeringr' 'HRe' 'SupportM' 'MarketingM' 'SupportR' 'SupportU' 'HRF'\n",
      " 'Salesa' 'Salesf' 'Supportf' 'Salesb' 'EngineeringB' 'HRG' 'Engineeringo'\n",
      " 'EngineeringN' 'HRV' 'Salesh' 'HRS' 'SalesP' 'Supportc' 'HRx' 'HRt'\n",
      " 'Supports' 'Marketingp' 'EngineeringP' 'HRc' 'MarketingP' 'MarketingA']\n"
     ]
    }
   ],
   "source": [
    "# Check unique department names\n",
    "print(\"Unique department names:\\n\", df['Department'].unique())\n"
   ]
  },
  {
   "cell_type": "code",
   "execution_count": 18,
   "id": "2cf9b85d-8cec-402b-b9d3-4cd2eda1a939",
   "metadata": {},
   "outputs": [
    {
     "name": "stdout",
     "output_type": "stream",
     "text": [
      "Salary Stats:\n",
      " count      8327.000000\n",
      "mean      89849.883704\n",
      "std       34794.627315\n",
      "min       24655.136613\n",
      "25%       59924.000000\n",
      "50%       89245.000000\n",
      "75%      119421.500000\n",
      "max      176156.206747\n",
      "Name: Salary, dtype: float64\n"
     ]
    },
    {
     "data": {
      "text/html": [
       "<div>\n",
       "<style scoped>\n",
       "    .dataframe tbody tr th:only-of-type {\n",
       "        vertical-align: middle;\n",
       "    }\n",
       "\n",
       "    .dataframe tbody tr th {\n",
       "        vertical-align: top;\n",
       "    }\n",
       "\n",
       "    .dataframe thead th {\n",
       "        text-align: right;\n",
       "    }\n",
       "</style>\n",
       "<table border=\"1\" class=\"dataframe\">\n",
       "  <thead>\n",
       "    <tr style=\"text-align: right;\">\n",
       "      <th></th>\n",
       "      <th>Unnamed: 0</th>\n",
       "      <th>ID</th>\n",
       "      <th>Name</th>\n",
       "      <th>Age</th>\n",
       "      <th>Email</th>\n",
       "      <th>Join Date</th>\n",
       "      <th>Salary</th>\n",
       "      <th>Department</th>\n",
       "    </tr>\n",
       "  </thead>\n",
       "  <tbody>\n",
       "  </tbody>\n",
       "</table>\n",
       "</div>"
      ],
      "text/plain": [
       "Empty DataFrame\n",
       "Columns: [Unnamed: 0, ID, Name, Age, Email, Join Date, Salary, Department]\n",
       "Index: []"
      ]
     },
     "execution_count": 18,
     "metadata": {},
     "output_type": "execute_result"
    }
   ],
   "source": [
    "# Remove symbols first (if needed)\n",
    "df['Salary'] = pd.to_numeric(df['Salary'], errors='coerce')\n",
    "\n",
    "# Check range\n",
    "print(\"Salary Stats:\\n\", df['Salary'].describe())\n",
    "\n",
    "# Check extreme high salaries\n",
    "df[df['Salary'] > 300000].head()\n",
    "\n",
    "# Check zero or very low salaries\n",
    "df[df['Salary'] < 1000].head()\n"
   ]
  },
  {
   "cell_type": "code",
   "execution_count": 19,
   "id": "4c24e3fd-64ef-40a9-b223-06010211c5bb",
   "metadata": {},
   "outputs": [
    {
     "data": {
      "text/html": [
       "<div>\n",
       "<style scoped>\n",
       "    .dataframe tbody tr th:only-of-type {\n",
       "        vertical-align: middle;\n",
       "    }\n",
       "\n",
       "    .dataframe tbody tr th {\n",
       "        vertical-align: top;\n",
       "    }\n",
       "\n",
       "    .dataframe thead th {\n",
       "        text-align: right;\n",
       "    }\n",
       "</style>\n",
       "<table border=\"1\" class=\"dataframe\">\n",
       "  <thead>\n",
       "    <tr style=\"text-align: right;\">\n",
       "      <th></th>\n",
       "      <th>Unnamed: 0</th>\n",
       "      <th>ID</th>\n",
       "      <th>Name</th>\n",
       "      <th>Age</th>\n",
       "      <th>Email</th>\n",
       "      <th>Join Date</th>\n",
       "      <th>Salary</th>\n",
       "      <th>Department</th>\n",
       "    </tr>\n",
       "  </thead>\n",
       "  <tbody>\n",
       "    <tr>\n",
       "      <th>5343</th>\n",
       "      <td>5343</td>\n",
       "      <td>fdd4537d-5be3-42e3-ab2d-5bdfaf68eac8</td>\n",
       "      <td>Mrs. Jacqueline Davis DVMparent</td>\n",
       "      <td>78.0</td>\n",
       "      <td>dennis09smith.com</td>\n",
       "      <td>2021-11-03</td>\n",
       "      <td>107196.000000</td>\n",
       "      <td>Marketing</td>\n",
       "    </tr>\n",
       "    <tr>\n",
       "      <th>7829</th>\n",
       "      <td>7829</td>\n",
       "      <td>d45b44ae-b0d7-4899-9bb7-ae797b00f8ab</td>\n",
       "      <td>Dr. Clifford Carrillo IIpopular</td>\n",
       "      <td>18.0</td>\n",
       "      <td>charles26@rivera-meyer.com</td>\n",
       "      <td>11/07/2011</td>\n",
       "      <td>152321.214592</td>\n",
       "      <td>Support</td>\n",
       "    </tr>\n",
       "    <tr>\n",
       "      <th>9936</th>\n",
       "      <td>9936</td>\n",
       "      <td>6dcfb2c6-9a39-4a55-82a7-5f5b39138e7d</td>\n",
       "      <td>Mrs. Tiffany Malone MDknowledge</td>\n",
       "      <td>87.0</td>\n",
       "      <td>qjones@lynch-cooley.com</td>\n",
       "      <td>2021-07-12</td>\n",
       "      <td>NaN</td>\n",
       "      <td>NaN</td>\n",
       "    </tr>\n",
       "  </tbody>\n",
       "</table>\n",
       "</div>"
      ],
      "text/plain": [
       "      Unnamed: 0                                    ID  \\\n",
       "5343        5343  fdd4537d-5be3-42e3-ab2d-5bdfaf68eac8   \n",
       "7829        7829  d45b44ae-b0d7-4899-9bb7-ae797b00f8ab   \n",
       "9936        9936  6dcfb2c6-9a39-4a55-82a7-5f5b39138e7d   \n",
       "\n",
       "                                 Name   Age                       Email  \\\n",
       "5343  Mrs. Jacqueline Davis DVMparent  78.0           dennis09smith.com   \n",
       "7829  Dr. Clifford Carrillo IIpopular  18.0  charles26@rivera-meyer.com   \n",
       "9936  Mrs. Tiffany Malone MDknowledge  87.0     qjones@lynch-cooley.com   \n",
       "\n",
       "       Join Date         Salary Department  \n",
       "5343  2021-11-03  107196.000000  Marketing  \n",
       "7829  11/07/2011  152321.214592    Support  \n",
       "9936  2021-07-12            NaN        NaN  "
      ]
     },
     "execution_count": 19,
     "metadata": {},
     "output_type": "execute_result"
    }
   ],
   "source": [
    "# Names with special characters\n",
    "df[df['Name'].str.contains(r'[^a-zA-Z\\s]', na=False)].head()\n",
    "\n",
    "# Unusually long names\n",
    "df[df['Name'].str.len() > 30].head()\n"
   ]
  },
  {
   "cell_type": "code",
   "execution_count": 20,
   "id": "efd78996-e876-45ad-9f5c-99caf7ec21bd",
   "metadata": {},
   "outputs": [],
   "source": [
    "df = df.drop_duplicates(subset='ID', keep='first')\n"
   ]
  },
  {
   "cell_type": "code",
   "execution_count": 22,
   "id": "dee12fd0-9c00-4287-b662-5ea5b99ca4ab",
   "metadata": {},
   "outputs": [],
   "source": [
    "\n",
    "df['Age'] = pd.to_numeric(df['Age'], errors='coerce')\n",
    "\n",
    "df = df[(df['Age'] >= 15) & (df['Age'] <= 100)]\n",
    "\n"
   ]
  },
  {
   "cell_type": "code",
   "execution_count": 23,
   "id": "2d419371-ab5f-4108-9153-afe73a4681b5",
   "metadata": {},
   "outputs": [],
   "source": [
    "df = df[df['Email'].str.contains(r'^[\\w\\.-]+@[\\w\\.-]+\\.\\w+$', na=False)]\n",
    "df = df[~df['Email'].str.contains('gmail|yahoo|hotmail|rediff', case=False, na=False)]\n"
   ]
  },
  {
   "cell_type": "code",
   "execution_count": 24,
   "id": "770c4603-b60e-4752-9784-b22bd873b81e",
   "metadata": {},
   "outputs": [],
   "source": [
    "# Fix typos\n",
    "df['Department'] = df['Department'].replace({\n",
    "    'Hr': 'HR',\n",
    "    'Engneering': 'Engineering',\n",
    "    'Marketng': 'Marketing',\n",
    "    'Saless': 'Sales',\n",
    "    'Supporrt': 'Support',\n",
    "    'SupportJ': 'Support'\n",
    "})\n",
    "\n",
    "# Optional: Replace missing departments\n",
    "df['Department'] = df['Department'].fillna('Unknown')\n",
    "\n"
   ]
  },
  {
   "cell_type": "code",
   "execution_count": 25,
   "id": "c7922181-e279-4845-b259-eca9d641ffc0",
   "metadata": {},
   "outputs": [],
   "source": [
    "# Remove numbers/symbols and standardize case\n",
    "df['Name'] = df['Name'].str.replace(r'[^a-zA-Z\\s]', '', regex=True)\n",
    "df['Name'] = df['Name'].str.strip().str.title()\n"
   ]
  },
  {
   "cell_type": "code",
   "execution_count": 27,
   "id": "cd06f454-e15f-4663-873f-b9e1c2322b2d",
   "metadata": {},
   "outputs": [],
   "source": [
    "# Convert to numeric if needed\n",
    "df['Salary'] = pd.to_numeric(df['Salary'], errors='coerce')\n",
    "\n",
    "# Remove unrealistic salaries\n",
    "df = df[(df['Salary'] >= 1000) & (df['Salary'] <= 300000)]\n",
    "\n"
   ]
  },
  {
   "cell_type": "code",
   "execution_count": 28,
   "id": "664ad115-dc33-41f0-a6b8-b822d45fb83e",
   "metadata": {},
   "outputs": [],
   "source": [
    "df.to_csv('../data/cleaned_dataset.csv', index=False)\n"
   ]
  },
  {
   "cell_type": "code",
   "execution_count": 7,
   "id": "210a55cf-7d0f-4df1-8dfe-7744ec80123e",
   "metadata": {},
   "outputs": [
    {
     "name": "stdout",
     "output_type": "stream",
     "text": [
      "Total blank or missing names: 58\n"
     ]
    },
    {
     "data": {
      "text/html": [
       "<div>\n",
       "<style scoped>\n",
       "    .dataframe tbody tr th:only-of-type {\n",
       "        vertical-align: middle;\n",
       "    }\n",
       "\n",
       "    .dataframe tbody tr th {\n",
       "        vertical-align: top;\n",
       "    }\n",
       "\n",
       "    .dataframe thead th {\n",
       "        text-align: right;\n",
       "    }\n",
       "</style>\n",
       "<table border=\"1\" class=\"dataframe\">\n",
       "  <thead>\n",
       "    <tr style=\"text-align: right;\">\n",
       "      <th></th>\n",
       "      <th>Unnamed: 0</th>\n",
       "      <th>ID</th>\n",
       "      <th>Name</th>\n",
       "      <th>Age</th>\n",
       "      <th>Email</th>\n",
       "      <th>Join Date</th>\n",
       "      <th>Salary</th>\n",
       "      <th>Department</th>\n",
       "    </tr>\n",
       "  </thead>\n",
       "  <tbody>\n",
       "    <tr>\n",
       "      <th>15</th>\n",
       "      <td>350</td>\n",
       "      <td>8b2948a1-3021-47f9-8ab1-34624240a528</td>\n",
       "      <td>NaN</td>\n",
       "      <td>72.0</td>\n",
       "      <td>drodriguez@phillips.com</td>\n",
       "      <td>2007-09-15</td>\n",
       "      <td>134658.000000</td>\n",
       "      <td>Sales</td>\n",
       "    </tr>\n",
       "    <tr>\n",
       "      <th>18</th>\n",
       "      <td>405</td>\n",
       "      <td>e112f1a1-9650-4e2d-8c07-96ebdb772f59</td>\n",
       "      <td>NaN</td>\n",
       "      <td>23.0</td>\n",
       "      <td>victor40@padilla.biz</td>\n",
       "      <td>2000-04-24</td>\n",
       "      <td>133652.000000</td>\n",
       "      <td>Unknown</td>\n",
       "    </tr>\n",
       "    <tr>\n",
       "      <th>36</th>\n",
       "      <td>717</td>\n",
       "      <td>4bd1a235-725c-4cc7-a857-645f484ca97c</td>\n",
       "      <td>NaN</td>\n",
       "      <td>85.0</td>\n",
       "      <td>megan15@goodwin.biz</td>\n",
       "      <td>1994-01-11</td>\n",
       "      <td>116906.000000</td>\n",
       "      <td>Salesy</td>\n",
       "    </tr>\n",
       "    <tr>\n",
       "      <th>61</th>\n",
       "      <td>1169</td>\n",
       "      <td>8207838c-ec54-4bcc-8061-56757823b81c</td>\n",
       "      <td>NaN</td>\n",
       "      <td>61.0</td>\n",
       "      <td>christinafarrell@kelly.com</td>\n",
       "      <td>1992-06-23</td>\n",
       "      <td>104076.314257</td>\n",
       "      <td>MarketingH</td>\n",
       "    </tr>\n",
       "    <tr>\n",
       "      <th>81</th>\n",
       "      <td>1572</td>\n",
       "      <td>226423a4-0ceb-4ec2-bb96-4bfa82f1d8aa</td>\n",
       "      <td>NaN</td>\n",
       "      <td>48.0</td>\n",
       "      <td>gtodd@morgan.com</td>\n",
       "      <td>2022-12-04</td>\n",
       "      <td>94071.592967</td>\n",
       "      <td>Unknown</td>\n",
       "    </tr>\n",
       "  </tbody>\n",
       "</table>\n",
       "</div>"
      ],
      "text/plain": [
       "    Unnamed: 0                                    ID Name   Age  \\\n",
       "15         350  8b2948a1-3021-47f9-8ab1-34624240a528  NaN  72.0   \n",
       "18         405  e112f1a1-9650-4e2d-8c07-96ebdb772f59  NaN  23.0   \n",
       "36         717  4bd1a235-725c-4cc7-a857-645f484ca97c  NaN  85.0   \n",
       "61        1169  8207838c-ec54-4bcc-8061-56757823b81c  NaN  61.0   \n",
       "81        1572  226423a4-0ceb-4ec2-bb96-4bfa82f1d8aa  NaN  48.0   \n",
       "\n",
       "                         Email   Join Date         Salary  Department  \n",
       "15     drodriguez@phillips.com  2007-09-15  134658.000000       Sales  \n",
       "18        victor40@padilla.biz  2000-04-24  133652.000000     Unknown  \n",
       "36         megan15@goodwin.biz  1994-01-11  116906.000000      Salesy  \n",
       "61  christinafarrell@kelly.com  1992-06-23  104076.314257  MarketingH  \n",
       "81            gtodd@morgan.com  2022-12-04   94071.592967     Unknown  "
      ]
     },
     "execution_count": 7,
     "metadata": {},
     "output_type": "execute_result"
    }
   ],
   "source": [
    "# Check for missing, empty, or whitespace-only names\n",
    "blank_names = df[df['Name'].isnull() | (df['Name'].str.strip() == \"\")]\n",
    "print(\"Total blank or missing names:\", blank_names.shape[0])\n",
    "blank_names.head()\n"
   ]
  },
  {
   "cell_type": "code",
   "execution_count": 8,
   "id": "e81462ee-bea7-4297-b18c-d524e10b033c",
   "metadata": {},
   "outputs": [],
   "source": [
    "# Remove rows with blank or missing names\n",
    "df = df[df['Name'].notnull()]                     # Remove NaN\n",
    "df = df[df['Name'].str.strip() != \"\"]             # Remove empty or whitespace\n"
   ]
  },
  {
   "cell_type": "code",
   "execution_count": 9,
   "id": "11fb6591-3ed5-4f10-ab3f-1c09c36e639d",
   "metadata": {},
   "outputs": [],
   "source": [
    "# Remove symbols and apply title case\n",
    "df['Name'] = df['Name'].str.replace(r'[^a-zA-Z\\s]', '', regex=True)\n",
    "df['Name'] = df['Name'].str.strip().str.title()\n"
   ]
  },
  {
   "cell_type": "code",
   "execution_count": 10,
   "id": "06b8c089-0903-459c-a3bc-b0b99f7d73df",
   "metadata": {},
   "outputs": [
    {
     "data": {
      "text/plain": [
       "0                  Lisa Bailey\n",
       "1              Nicole Cardenas\n",
       "2                  Laura Davis\n",
       "3               Jason Stephens\n",
       "4              Richard Estrada\n",
       "5           Mr Larry Mcpherson\n",
       "6                Richard Brown\n",
       "7                Kristen Moyer\n",
       "8                 Alice Medina\n",
       "9                 Rodney Burns\n",
       "10         Brandi Fowlerreport\n",
       "11    Jeremiah Parkereverybody\n",
       "12                 Michael Fox\n",
       "13                 Adam Howell\n",
       "14                 Mary Lawson\n",
       "16         Susan Henderson Dds\n",
       "17               Daniel Bender\n",
       "19                John Miranda\n",
       "20            Lindsey Mccoybad\n",
       "21         Mitchell Jamescarry\n",
       "Name: Name, dtype: object"
      ]
     },
     "execution_count": 10,
     "metadata": {},
     "output_type": "execute_result"
    }
   ],
   "source": [
    "df['Name'].head(20)\n"
   ]
  },
  {
   "cell_type": "code",
   "execution_count": 11,
   "id": "50e46487-04e5-4b0d-9fce-8e26dd4d21bc",
   "metadata": {},
   "outputs": [],
   "source": [
    "# Replace NaN (missing) and empty/whitespace names with 'Unknown'\n",
    "df['Name'] = df['Name'].fillna('Unknown')\n",
    "df['Name'] = df['Name'].apply(lambda x: 'Unknown' if str(x).strip() == '' else x)\n"
   ]
  },
  {
   "cell_type": "code",
   "execution_count": 12,
   "id": "4082677b-651d-4be2-b6e4-46df7d286c32",
   "metadata": {},
   "outputs": [],
   "source": [
    "# Clean and standardize names\n",
    "df['Name'] = df['Name'].str.replace(r'[^a-zA-Z\\s]', '', regex=True)\n",
    "df['Name'] = df['Name'].str.strip().str.title()\n"
   ]
  },
  {
   "cell_type": "code",
   "execution_count": 13,
   "id": "84019107-2545-452a-b3db-3d0efdc1f55a",
   "metadata": {},
   "outputs": [
    {
     "data": {
      "text/plain": [
       "Name\n",
       "Melissa Brown               2\n",
       "Nicole Cardenas             1\n",
       "Nicole Bryant               1\n",
       "Alexis Peters               1\n",
       "Amber Stewart               1\n",
       "Nicholas Woodward           1\n",
       "Thomas Hamptoneasy          1\n",
       "Richard Hawkins             1\n",
       "Carlos Kline                1\n",
       "Erik Sanchezname            1\n",
       "Shawn Villegas Md           1\n",
       "Robin White                 1\n",
       "Glen Lee                    1\n",
       "Chloe Rosario               1\n",
       "David Hernandez             1\n",
       "Elizabeth Williamsonidea    1\n",
       "Karen Alexandermemory       1\n",
       "Lisa Bailey                 1\n",
       "John Miranda                1\n",
       "Lindsey Mccoybad            1\n",
       "Mitchell Jamescarry         1\n",
       "Yolanda Cherry              1\n",
       "Andrew Fuller               1\n",
       "Amber Bailey Dvm            1\n",
       "Angel Anderson              1\n",
       "Name: count, dtype: int64"
      ]
     },
     "execution_count": 13,
     "metadata": {},
     "output_type": "execute_result"
    }
   ],
   "source": [
    "\n",
    "df['Name'].value_counts().head(25)\n"
   ]
  },
  {
   "cell_type": "code",
   "execution_count": 14,
   "id": "bf709f2a-f7b9-4bc0-91f4-7bcfa0072dfe",
   "metadata": {},
   "outputs": [
    {
     "name": "stdout",
     "output_type": "stream",
     "text": [
      "Cleaned file saved to ../data/cleaned_dataset.csv\n"
     ]
    }
   ],
   "source": [
    "# Save cleaned data\n",
    "df.to_csv('../data/cleaned_dataset.csv', index=False)\n",
    "\n",
    "print(\"Cleaned file saved to ../data/cleaned_dataset.csv\")\n"
   ]
  },
  {
   "cell_type": "code",
   "execution_count": 15,
   "id": "bcd0daca-67d3-4024-8d8c-b6603ad12ed0",
   "metadata": {},
   "outputs": [],
   "source": [
    "# Convert Age column to numeric (if not already)\n",
    "df['Age'] = pd.to_numeric(df['Age'], errors='coerce')\n"
   ]
  },
  {
   "cell_type": "code",
   "execution_count": 17,
   "id": "38419ffd-5fc9-4604-86ae-8ce18a279c93",
   "metadata": {},
   "outputs": [
    {
     "data": {
      "text/plain": [
       "np.float64(65.0)"
      ]
     },
     "execution_count": 17,
     "metadata": {},
     "output_type": "execute_result"
    }
   ],
   "source": [
    "# Check maximum age now\n",
    "df['Age'].max()\n"
   ]
  },
  {
   "cell_type": "code",
   "execution_count": 18,
   "id": "914a9d7e-7cb1-49f4-94ad-f98220b3b861",
   "metadata": {},
   "outputs": [],
   "source": [
    "# Keep only rows where Age is less than or equal to 65\n",
    "df = df[df['Age'] <= 60]\n"
   ]
  },
  {
   "cell_type": "code",
   "execution_count": 19,
   "id": "4993a30b-dbaa-4b18-8580-fcee3b42d993",
   "metadata": {},
   "outputs": [],
   "source": [
    "df = df.dropna(subset=['Age'])\n"
   ]
  },
  {
   "cell_type": "code",
   "execution_count": 20,
   "id": "862315fd-8aac-494e-b228-de53c6173d82",
   "metadata": {},
   "outputs": [
    {
     "data": {
      "text/plain": [
       "np.float64(60.0)"
      ]
     },
     "execution_count": 20,
     "metadata": {},
     "output_type": "execute_result"
    }
   ],
   "source": [
    "df['Age'].max()\n"
   ]
  },
  {
   "cell_type": "code",
   "execution_count": 21,
   "id": "500829c5-b7bf-4a5b-82f3-5e025edb9a47",
   "metadata": {},
   "outputs": [
    {
     "name": "stdout",
     "output_type": "stream",
     "text": [
      "Cleaned file saved to ../data/cleaned_dataset.csv\n"
     ]
    }
   ],
   "source": [
    "# Save cleaned data\n",
    "df.to_csv('../data/cleaned_dataset.csv', index=False)\n",
    "\n",
    "print(\"Cleaned file saved to ../data/cleaned_dataset.csv\")"
   ]
  },
  {
   "cell_type": "code",
   "execution_count": 22,
   "id": "a4b439e0-035d-4171-a704-7c8cd1264bf3",
   "metadata": {},
   "outputs": [],
   "source": [
    "df.to_csv('../data/cleaned_dataset.csv', index=False)\n"
   ]
  },
  {
   "cell_type": "code",
   "execution_count": null,
   "id": "e8829660-bd27-424e-bef2-d6bacfee6b9e",
   "metadata": {},
   "outputs": [],
   "source": []
  }
 ],
 "metadata": {
  "kernelspec": {
   "display_name": "Python 3 (ipykernel)",
   "language": "python",
   "name": "python3"
  },
  "language_info": {
   "codemirror_mode": {
    "name": "ipython",
    "version": 3
   },
   "file_extension": ".py",
   "mimetype": "text/x-python",
   "name": "python",
   "nbconvert_exporter": "python",
   "pygments_lexer": "ipython3",
   "version": "3.13.5"
  }
 },
 "nbformat": 4,
 "nbformat_minor": 5
}
