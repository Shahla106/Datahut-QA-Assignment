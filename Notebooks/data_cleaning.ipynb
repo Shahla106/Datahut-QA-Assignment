{
 "cells": [
  {
   "cell_type": "code",
   "execution_count": 1,
   "id": "8a6b57dc-0f7d-4db7-b7f6-143155627ad3",
   "metadata": {},
   "outputs": [
    {
     "name": "stdout",
     "output_type": "stream",
     "text": [
      "Shape: (11000, 8)\n"
     ]
    },
    {
     "data": {
      "text/html": [
       "<div>\n",
       "<style scoped>\n",
       "    .dataframe tbody tr th:only-of-type {\n",
       "        vertical-align: middle;\n",
       "    }\n",
       "\n",
       "    .dataframe tbody tr th {\n",
       "        vertical-align: top;\n",
       "    }\n",
       "\n",
       "    .dataframe thead th {\n",
       "        text-align: right;\n",
       "    }\n",
       "</style>\n",
       "<table border=\"1\" class=\"dataframe\">\n",
       "  <thead>\n",
       "    <tr style=\"text-align: right;\">\n",
       "      <th></th>\n",
       "      <th>Unnamed: 0</th>\n",
       "      <th>ID</th>\n",
       "      <th>Name</th>\n",
       "      <th>Age</th>\n",
       "      <th>Email</th>\n",
       "      <th>Join Date</th>\n",
       "      <th>Salary</th>\n",
       "      <th>Department</th>\n",
       "    </tr>\n",
       "  </thead>\n",
       "  <tbody>\n",
       "    <tr>\n",
       "      <th>0</th>\n",
       "      <td>0</td>\n",
       "      <td>1e407ff9-6255-489d-a0de-34135d4f74bd</td>\n",
       "      <td>Hunter Thomas</td>\n",
       "      <td>25.0</td>\n",
       "      <td>xlopez@hotmail.com</td>\n",
       "      <td>NaN</td>\n",
       "      <td>88552.0</td>\n",
       "      <td>Sales</td>\n",
       "    </tr>\n",
       "    <tr>\n",
       "      <th>1</th>\n",
       "      <td>1</td>\n",
       "      <td>379f55b8-87d5-4739-a146-7400b78c24d1</td>\n",
       "      <td>Jeremy Irwin</td>\n",
       "      <td>90.0</td>\n",
       "      <td>Jillian Jenkins</td>\n",
       "      <td>2022-07-07</td>\n",
       "      <td>139227.0</td>\n",
       "      <td>NaN</td>\n",
       "    </tr>\n",
       "    <tr>\n",
       "      <th>2</th>\n",
       "      <td>2</td>\n",
       "      <td>18261368-dfa1-47f0-afc6-bddf45926b07</td>\n",
       "      <td>Jennifer Hammondquickly</td>\n",
       "      <td>66.0</td>\n",
       "      <td>jscottgreen.biz</td>\n",
       "      <td>2023-11-21</td>\n",
       "      <td>65550.0</td>\n",
       "      <td>Engineering</td>\n",
       "    </tr>\n",
       "    <tr>\n",
       "      <th>3</th>\n",
       "      <td>3</td>\n",
       "      <td>ae7cf7cf-17cf-4c8b-9c44-4f61a9a238e5</td>\n",
       "      <td>Sydney Taylorso</td>\n",
       "      <td>39.0</td>\n",
       "      <td>luke56gonzalez.com</td>\n",
       "      <td>2021-11-05</td>\n",
       "      <td>139932.0</td>\n",
       "      <td>SupportJ</td>\n",
       "    </tr>\n",
       "    <tr>\n",
       "      <th>4</th>\n",
       "      <td>4</td>\n",
       "      <td>14ed3e6a-e0f5-4bbe-8d93-8665267f5c90</td>\n",
       "      <td>Julia Lee</td>\n",
       "      <td>71.0</td>\n",
       "      <td>figueroakayla@yahoo.com</td>\n",
       "      <td>NaN</td>\n",
       "      <td>143456.0</td>\n",
       "      <td>Marketing</td>\n",
       "    </tr>\n",
       "  </tbody>\n",
       "</table>\n",
       "</div>"
      ],
      "text/plain": [
       "   Unnamed: 0                                    ID                     Name  \\\n",
       "0           0  1e407ff9-6255-489d-a0de-34135d4f74bd            Hunter Thomas   \n",
       "1           1  379f55b8-87d5-4739-a146-7400b78c24d1             Jeremy Irwin   \n",
       "2           2  18261368-dfa1-47f0-afc6-bddf45926b07  Jennifer Hammondquickly   \n",
       "3           3  ae7cf7cf-17cf-4c8b-9c44-4f61a9a238e5          Sydney Taylorso   \n",
       "4           4  14ed3e6a-e0f5-4bbe-8d93-8665267f5c90                Julia Lee   \n",
       "\n",
       "    Age                    Email   Join Date    Salary   Department  \n",
       "0  25.0       xlopez@hotmail.com         NaN   88552.0        Sales  \n",
       "1  90.0          Jillian Jenkins  2022-07-07  139227.0          NaN  \n",
       "2  66.0          jscottgreen.biz  2023-11-21   65550.0  Engineering  \n",
       "3  39.0       luke56gonzalez.com  2021-11-05  139932.0     SupportJ  \n",
       "4  71.0  figueroakayla@yahoo.com         NaN  143456.0    Marketing  "
      ]
     },
     "execution_count": 1,
     "metadata": {},
     "output_type": "execute_result"
    }
   ],
   "source": [
    "import pandas as pd\n",
    "\n",
    "# Load the messy dataset\n",
    "df = pd.read_csv('../data/messy_Data.csv')\n",
    "\n",
    "# Show basic info\n",
    "print(\"Shape:\", df.shape)\n",
    "df.head()\n"
   ]
  },
  {
   "cell_type": "code",
   "execution_count": 2,
   "id": "53ec1a29-bc0f-454f-a3b7-14b8cfbcfcc0",
   "metadata": {},
   "outputs": [
    {
     "data": {
      "text/plain": [
       "Unnamed: 0       0\n",
       "ID               0\n",
       "Name          2333\n",
       "Age           1747\n",
       "Email         1269\n",
       "Join Date     2192\n",
       "Salary        2239\n",
       "Department    2255\n",
       "dtype: int64"
      ]
     },
     "execution_count": 2,
     "metadata": {},
     "output_type": "execute_result"
    }
   ],
   "source": [
    "# Count missing values in each column\n",
    "df.isnull().sum()\n"
   ]
  },
  {
   "cell_type": "code",
   "execution_count": 3,
   "id": "9b673fc1-453d-433a-8790-0d6e8d7e3ab7",
   "metadata": {},
   "outputs": [
    {
     "data": {
      "text/html": [
       "<div>\n",
       "<style scoped>\n",
       "    .dataframe tbody tr th:only-of-type {\n",
       "        vertical-align: middle;\n",
       "    }\n",
       "\n",
       "    .dataframe tbody tr th {\n",
       "        vertical-align: top;\n",
       "    }\n",
       "\n",
       "    .dataframe thead th {\n",
       "        text-align: right;\n",
       "    }\n",
       "</style>\n",
       "<table border=\"1\" class=\"dataframe\">\n",
       "  <thead>\n",
       "    <tr style=\"text-align: right;\">\n",
       "      <th></th>\n",
       "      <th>Unnamed: 0</th>\n",
       "      <th>ID</th>\n",
       "      <th>Name</th>\n",
       "      <th>Age</th>\n",
       "      <th>Email</th>\n",
       "      <th>Join Date</th>\n",
       "      <th>Salary</th>\n",
       "      <th>Department</th>\n",
       "    </tr>\n",
       "  </thead>\n",
       "  <tbody>\n",
       "    <tr>\n",
       "      <th>10002</th>\n",
       "      <td>6557</td>\n",
       "      <td>07727d57-4574-4a0f-9372-51e7e7d526e7</td>\n",
       "      <td>NaN</td>\n",
       "      <td>NaN</td>\n",
       "      <td>NaN</td>\n",
       "      <td>NaN</td>\n",
       "      <td>NaN</td>\n",
       "      <td>NaN</td>\n",
       "    </tr>\n",
       "    <tr>\n",
       "      <th>10005</th>\n",
       "      <td>7708</td>\n",
       "      <td>418d64f6-5c24-4023-a19b-085664d8aa82</td>\n",
       "      <td>NaN</td>\n",
       "      <td>NaN</td>\n",
       "      <td>NaN</td>\n",
       "      <td>NaN</td>\n",
       "      <td>NaN</td>\n",
       "      <td>NaN</td>\n",
       "    </tr>\n",
       "    <tr>\n",
       "      <th>10008</th>\n",
       "      <td>2470</td>\n",
       "      <td>07a02c66-def7-4a7b-8b5a-792c3742d3f0</td>\n",
       "      <td>Lisa Reyes</td>\n",
       "      <td>37.0</td>\n",
       "      <td>dsmithhotmail.com</td>\n",
       "      <td>2022-06-06</td>\n",
       "      <td>87274.0</td>\n",
       "      <td>Sales</td>\n",
       "    </tr>\n",
       "    <tr>\n",
       "      <th>10009</th>\n",
       "      <td>2846</td>\n",
       "      <td>e3628acd-d04a-4b74-9775-1aecb6b938ba</td>\n",
       "      <td>NaN</td>\n",
       "      <td>NaN</td>\n",
       "      <td>NaN</td>\n",
       "      <td>NaN</td>\n",
       "      <td>NaN</td>\n",
       "      <td>NaN</td>\n",
       "    </tr>\n",
       "    <tr>\n",
       "      <th>10011</th>\n",
       "      <td>4168</td>\n",
       "      <td>6dd96a78-a797-404b-b47a-b5723ba8e605</td>\n",
       "      <td>NaN</td>\n",
       "      <td>NaN</td>\n",
       "      <td>NaN</td>\n",
       "      <td>NaN</td>\n",
       "      <td>NaN</td>\n",
       "      <td>NaN</td>\n",
       "    </tr>\n",
       "    <tr>\n",
       "      <th>...</th>\n",
       "      <td>...</td>\n",
       "      <td>...</td>\n",
       "      <td>...</td>\n",
       "      <td>...</td>\n",
       "      <td>...</td>\n",
       "      <td>...</td>\n",
       "      <td>...</td>\n",
       "      <td>...</td>\n",
       "    </tr>\n",
       "    <tr>\n",
       "      <th>10975</th>\n",
       "      <td>4685</td>\n",
       "      <td>2adebc64-900d-431a-93cd-118de4bb6eb7</td>\n",
       "      <td>NaN</td>\n",
       "      <td>NaN</td>\n",
       "      <td>NaN</td>\n",
       "      <td>NaN</td>\n",
       "      <td>NaN</td>\n",
       "      <td>NaN</td>\n",
       "    </tr>\n",
       "    <tr>\n",
       "      <th>10978</th>\n",
       "      <td>3054</td>\n",
       "      <td>1ea7f125-698d-49dc-a97a-955b4dc4fc9b</td>\n",
       "      <td>NaN</td>\n",
       "      <td>NaN</td>\n",
       "      <td>NaN</td>\n",
       "      <td>NaN</td>\n",
       "      <td>NaN</td>\n",
       "      <td>NaN</td>\n",
       "    </tr>\n",
       "    <tr>\n",
       "      <th>10988</th>\n",
       "      <td>6403</td>\n",
       "      <td>4edd1e6e-cfb5-4300-9c74-e9642836e134</td>\n",
       "      <td>NaN</td>\n",
       "      <td>NaN</td>\n",
       "      <td>NaN</td>\n",
       "      <td>NaN</td>\n",
       "      <td>NaN</td>\n",
       "      <td>NaN</td>\n",
       "    </tr>\n",
       "    <tr>\n",
       "      <th>10995</th>\n",
       "      <td>6523</td>\n",
       "      <td>07c223be-03e6-4f70-a2b5-86df778cc61a</td>\n",
       "      <td>NaN</td>\n",
       "      <td>NaN</td>\n",
       "      <td>NaN</td>\n",
       "      <td>NaN</td>\n",
       "      <td>NaN</td>\n",
       "      <td>NaN</td>\n",
       "    </tr>\n",
       "    <tr>\n",
       "      <th>10999</th>\n",
       "      <td>7107</td>\n",
       "      <td>fc25a38a-5747-46eb-b6d3-7173f8255809</td>\n",
       "      <td>Caroline Ochoa</td>\n",
       "      <td>53.0</td>\n",
       "      <td>cdavis@hodges.com</td>\n",
       "      <td>2023-08-10</td>\n",
       "      <td>149224.0</td>\n",
       "      <td>Support</td>\n",
       "    </tr>\n",
       "  </tbody>\n",
       "</table>\n",
       "<p>291 rows × 8 columns</p>\n",
       "</div>"
      ],
      "text/plain": [
       "       Unnamed: 0                                    ID            Name   Age  \\\n",
       "10002        6557  07727d57-4574-4a0f-9372-51e7e7d526e7             NaN   NaN   \n",
       "10005        7708  418d64f6-5c24-4023-a19b-085664d8aa82             NaN   NaN   \n",
       "10008        2470  07a02c66-def7-4a7b-8b5a-792c3742d3f0      Lisa Reyes  37.0   \n",
       "10009        2846  e3628acd-d04a-4b74-9775-1aecb6b938ba             NaN   NaN   \n",
       "10011        4168  6dd96a78-a797-404b-b47a-b5723ba8e605             NaN   NaN   \n",
       "...           ...                                   ...             ...   ...   \n",
       "10975        4685  2adebc64-900d-431a-93cd-118de4bb6eb7             NaN   NaN   \n",
       "10978        3054  1ea7f125-698d-49dc-a97a-955b4dc4fc9b             NaN   NaN   \n",
       "10988        6403  4edd1e6e-cfb5-4300-9c74-e9642836e134             NaN   NaN   \n",
       "10995        6523  07c223be-03e6-4f70-a2b5-86df778cc61a             NaN   NaN   \n",
       "10999        7107  fc25a38a-5747-46eb-b6d3-7173f8255809  Caroline Ochoa  53.0   \n",
       "\n",
       "                   Email   Join Date    Salary Department  \n",
       "10002                NaN         NaN       NaN        NaN  \n",
       "10005                NaN         NaN       NaN        NaN  \n",
       "10008  dsmithhotmail.com  2022-06-06   87274.0      Sales  \n",
       "10009                NaN         NaN       NaN        NaN  \n",
       "10011                NaN         NaN       NaN        NaN  \n",
       "...                  ...         ...       ...        ...  \n",
       "10975                NaN         NaN       NaN        NaN  \n",
       "10978                NaN         NaN       NaN        NaN  \n",
       "10988                NaN         NaN       NaN        NaN  \n",
       "10995                NaN         NaN       NaN        NaN  \n",
       "10999  cdavis@hodges.com  2023-08-10  149224.0    Support  \n",
       "\n",
       "[291 rows x 8 columns]"
      ]
     },
     "execution_count": 3,
     "metadata": {},
     "output_type": "execute_result"
    }
   ],
   "source": [
    "\n",
    "df.duplicated().sum()\n",
    "\n",
    "df[df.duplicated()]\n"
   ]
  },
  {
   "cell_type": "code",
   "execution_count": 4,
   "id": "43d09a33-e725-458c-a69b-d8738b933e9a",
   "metadata": {},
   "outputs": [
    {
     "data": {
      "text/html": [
       "<div>\n",
       "<style scoped>\n",
       "    .dataframe tbody tr th:only-of-type {\n",
       "        vertical-align: middle;\n",
       "    }\n",
       "\n",
       "    .dataframe tbody tr th {\n",
       "        vertical-align: top;\n",
       "    }\n",
       "\n",
       "    .dataframe thead th {\n",
       "        text-align: right;\n",
       "    }\n",
       "</style>\n",
       "<table border=\"1\" class=\"dataframe\">\n",
       "  <thead>\n",
       "    <tr style=\"text-align: right;\">\n",
       "      <th></th>\n",
       "      <th>Unnamed: 0</th>\n",
       "      <th>ID</th>\n",
       "      <th>Name</th>\n",
       "      <th>Age</th>\n",
       "      <th>Email</th>\n",
       "      <th>Join Date</th>\n",
       "      <th>Salary</th>\n",
       "      <th>Department</th>\n",
       "    </tr>\n",
       "  </thead>\n",
       "  <tbody>\n",
       "    <tr>\n",
       "      <th>1</th>\n",
       "      <td>1</td>\n",
       "      <td>379f55b8-87d5-4739-a146-7400b78c24d1</td>\n",
       "      <td>Jeremy Irwin</td>\n",
       "      <td>90.0</td>\n",
       "      <td>Jillian Jenkins</td>\n",
       "      <td>2022-07-07</td>\n",
       "      <td>139227.0</td>\n",
       "      <td>NaN</td>\n",
       "    </tr>\n",
       "    <tr>\n",
       "      <th>2</th>\n",
       "      <td>2</td>\n",
       "      <td>18261368-dfa1-47f0-afc6-bddf45926b07</td>\n",
       "      <td>Jennifer Hammondquickly</td>\n",
       "      <td>66.0</td>\n",
       "      <td>jscottgreen.biz</td>\n",
       "      <td>2023-11-21</td>\n",
       "      <td>65550.0</td>\n",
       "      <td>Engineering</td>\n",
       "    </tr>\n",
       "    <tr>\n",
       "      <th>3</th>\n",
       "      <td>3</td>\n",
       "      <td>ae7cf7cf-17cf-4c8b-9c44-4f61a9a238e5</td>\n",
       "      <td>Sydney Taylorso</td>\n",
       "      <td>39.0</td>\n",
       "      <td>luke56gonzalez.com</td>\n",
       "      <td>2021-11-05</td>\n",
       "      <td>139932.0</td>\n",
       "      <td>SupportJ</td>\n",
       "    </tr>\n",
       "    <tr>\n",
       "      <th>6</th>\n",
       "      <td>6</td>\n",
       "      <td>c4892dbb-2554-4ce1-8f11-f6597d7f6782</td>\n",
       "      <td>Patricia Brown DVM</td>\n",
       "      <td>66.0</td>\n",
       "      <td>pperkinshotmail.com</td>\n",
       "      <td>17/09/2020</td>\n",
       "      <td>77311.0</td>\n",
       "      <td>HR</td>\n",
       "    </tr>\n",
       "    <tr>\n",
       "      <th>7</th>\n",
       "      <td>7</td>\n",
       "      <td>465e625b-f924-4061-8356-c7e3130f7118</td>\n",
       "      <td>Derek Murphy</td>\n",
       "      <td>38.0</td>\n",
       "      <td>josephrobertsongmail.com</td>\n",
       "      <td>2021-01-12</td>\n",
       "      <td>NaN</td>\n",
       "      <td>Support</td>\n",
       "    </tr>\n",
       "    <tr>\n",
       "      <th>...</th>\n",
       "      <td>...</td>\n",
       "      <td>...</td>\n",
       "      <td>...</td>\n",
       "      <td>...</td>\n",
       "      <td>...</td>\n",
       "      <td>...</td>\n",
       "      <td>...</td>\n",
       "      <td>...</td>\n",
       "    </tr>\n",
       "    <tr>\n",
       "      <th>10978</th>\n",
       "      <td>3054</td>\n",
       "      <td>1ea7f125-698d-49dc-a97a-955b4dc4fc9b</td>\n",
       "      <td>NaN</td>\n",
       "      <td>NaN</td>\n",
       "      <td>NaN</td>\n",
       "      <td>NaN</td>\n",
       "      <td>NaN</td>\n",
       "      <td>NaN</td>\n",
       "    </tr>\n",
       "    <tr>\n",
       "      <th>10988</th>\n",
       "      <td>6403</td>\n",
       "      <td>4edd1e6e-cfb5-4300-9c74-e9642836e134</td>\n",
       "      <td>NaN</td>\n",
       "      <td>NaN</td>\n",
       "      <td>NaN</td>\n",
       "      <td>NaN</td>\n",
       "      <td>NaN</td>\n",
       "      <td>NaN</td>\n",
       "    </tr>\n",
       "    <tr>\n",
       "      <th>10993</th>\n",
       "      <td>9510</td>\n",
       "      <td>796f8c0b-15a4-475c-bb02-ac892df0c746</td>\n",
       "      <td>Shelley Hopkinslive</td>\n",
       "      <td>79.0</td>\n",
       "      <td>Michael Walker</td>\n",
       "      <td>25/12/1992</td>\n",
       "      <td>47809.0</td>\n",
       "      <td>HR</td>\n",
       "    </tr>\n",
       "    <tr>\n",
       "      <th>10995</th>\n",
       "      <td>6523</td>\n",
       "      <td>07c223be-03e6-4f70-a2b5-86df778cc61a</td>\n",
       "      <td>NaN</td>\n",
       "      <td>NaN</td>\n",
       "      <td>NaN</td>\n",
       "      <td>NaN</td>\n",
       "      <td>NaN</td>\n",
       "      <td>NaN</td>\n",
       "    </tr>\n",
       "    <tr>\n",
       "      <th>10996</th>\n",
       "      <td>9785</td>\n",
       "      <td>da8a6bbc-5026-4630-848d-f64e80dac56c</td>\n",
       "      <td>Steven Armstrong</td>\n",
       "      <td>38.0</td>\n",
       "      <td>molly89gmail.com</td>\n",
       "      <td>2021-06-24</td>\n",
       "      <td>NaN</td>\n",
       "      <td>Sales</td>\n",
       "    </tr>\n",
       "  </tbody>\n",
       "</table>\n",
       "<p>3699 rows × 8 columns</p>\n",
       "</div>"
      ],
      "text/plain": [
       "       Unnamed: 0                                    ID  \\\n",
       "1               1  379f55b8-87d5-4739-a146-7400b78c24d1   \n",
       "2               2  18261368-dfa1-47f0-afc6-bddf45926b07   \n",
       "3               3  ae7cf7cf-17cf-4c8b-9c44-4f61a9a238e5   \n",
       "6               6  c4892dbb-2554-4ce1-8f11-f6597d7f6782   \n",
       "7               7  465e625b-f924-4061-8356-c7e3130f7118   \n",
       "...           ...                                   ...   \n",
       "10978        3054  1ea7f125-698d-49dc-a97a-955b4dc4fc9b   \n",
       "10988        6403  4edd1e6e-cfb5-4300-9c74-e9642836e134   \n",
       "10993        9510  796f8c0b-15a4-475c-bb02-ac892df0c746   \n",
       "10995        6523  07c223be-03e6-4f70-a2b5-86df778cc61a   \n",
       "10996        9785  da8a6bbc-5026-4630-848d-f64e80dac56c   \n",
       "\n",
       "                          Name   Age                     Email   Join Date  \\\n",
       "1                 Jeremy Irwin  90.0           Jillian Jenkins  2022-07-07   \n",
       "2      Jennifer Hammondquickly  66.0           jscottgreen.biz  2023-11-21   \n",
       "3              Sydney Taylorso  39.0        luke56gonzalez.com  2021-11-05   \n",
       "6           Patricia Brown DVM  66.0       pperkinshotmail.com  17/09/2020   \n",
       "7                 Derek Murphy  38.0  josephrobertsongmail.com  2021-01-12   \n",
       "...                        ...   ...                       ...         ...   \n",
       "10978                      NaN   NaN                       NaN         NaN   \n",
       "10988                      NaN   NaN                       NaN         NaN   \n",
       "10993      Shelley Hopkinslive  79.0            Michael Walker  25/12/1992   \n",
       "10995                      NaN   NaN                       NaN         NaN   \n",
       "10996         Steven Armstrong  38.0          molly89gmail.com  2021-06-24   \n",
       "\n",
       "         Salary   Department  \n",
       "1      139227.0          NaN  \n",
       "2       65550.0  Engineering  \n",
       "3      139932.0     SupportJ  \n",
       "6       77311.0           HR  \n",
       "7           NaN      Support  \n",
       "...         ...          ...  \n",
       "10978       NaN          NaN  \n",
       "10988       NaN          NaN  \n",
       "10993   47809.0           HR  \n",
       "10995       NaN          NaN  \n",
       "10996       NaN        Sales  \n",
       "\n",
       "[3699 rows x 8 columns]"
      ]
     },
     "execution_count": 4,
     "metadata": {},
     "output_type": "execute_result"
    }
   ],
   "source": [
    "\n",
    "df[~df['Email'].str.contains(r'^[\\w\\.-]+@[\\w\\.-]+\\.\\w+$', na=False)]\n"
   ]
  },
  {
   "cell_type": "code",
   "execution_count": 5,
   "id": "d3b292f4-97f5-4420-82c5-746e5533509a",
   "metadata": {},
   "outputs": [],
   "source": [
    "\n",
    "df = df[~df['Email'].str.contains('gmail|yahoo|hotmail', case=False, na=False)]\n"
   ]
  },
  {
   "cell_type": "code",
   "execution_count": 7,
   "id": "4b3815a1-f7ea-4a40-a7cf-51083f9ec8ff",
   "metadata": {},
   "outputs": [],
   "source": [
    "\n",
    "df['Name'] = df['Name'].str.replace(r'[^a-zA-Z\\s]', '', regex=True)\n",
    "df['Name'] = df['Name'].str.strip().str.title()\n"
   ]
  },
  {
   "cell_type": "code",
   "execution_count": 8,
   "id": "4483fb24-b85d-41f3-b5a4-f2adf779ce6c",
   "metadata": {},
   "outputs": [],
   "source": [
    "\n",
    "df['Join Date'] = pd.to_datetime(df['Join Date'], errors='coerce')"
   ]
  },
  {
   "cell_type": "code",
   "execution_count": 9,
   "id": "5ec030cc-1762-4171-9103-62df013a8664",
   "metadata": {},
   "outputs": [
    {
     "data": {
      "text/html": [
       "<div>\n",
       "<style scoped>\n",
       "    .dataframe tbody tr th:only-of-type {\n",
       "        vertical-align: middle;\n",
       "    }\n",
       "\n",
       "    .dataframe tbody tr th {\n",
       "        vertical-align: top;\n",
       "    }\n",
       "\n",
       "    .dataframe thead th {\n",
       "        text-align: right;\n",
       "    }\n",
       "</style>\n",
       "<table border=\"1\" class=\"dataframe\">\n",
       "  <thead>\n",
       "    <tr style=\"text-align: right;\">\n",
       "      <th></th>\n",
       "      <th>Unnamed: 0</th>\n",
       "      <th>ID</th>\n",
       "      <th>Name</th>\n",
       "      <th>Age</th>\n",
       "      <th>Email</th>\n",
       "      <th>Join Date</th>\n",
       "      <th>Salary</th>\n",
       "      <th>Department</th>\n",
       "    </tr>\n",
       "  </thead>\n",
       "  <tbody>\n",
       "    <tr>\n",
       "      <th>5</th>\n",
       "      <td>5</td>\n",
       "      <td>f92ea13f-24d3-4792-91e4-5b0e07d90c2c</td>\n",
       "      <td>Lisa Bailey</td>\n",
       "      <td>81.0</td>\n",
       "      <td>milleryvonne@fowler-york.com</td>\n",
       "      <td>NaT</td>\n",
       "      <td>123018.000000</td>\n",
       "      <td>SupportE</td>\n",
       "    </tr>\n",
       "    <tr>\n",
       "      <th>10</th>\n",
       "      <td>10</td>\n",
       "      <td>d5fe9321-49cf-4f14-ac96-7aea1204247b</td>\n",
       "      <td>Craig Conway</td>\n",
       "      <td>88.0</td>\n",
       "      <td>gerald47@woodard-smith.com</td>\n",
       "      <td>NaT</td>\n",
       "      <td>81214.525972</td>\n",
       "      <td>Engineering</td>\n",
       "    </tr>\n",
       "    <tr>\n",
       "      <th>14</th>\n",
       "      <td>14</td>\n",
       "      <td>9b83a5e5-9516-493f-86f8-d6c445edb501</td>\n",
       "      <td>Nicole Cardenas</td>\n",
       "      <td>60.0</td>\n",
       "      <td>griffinlinda@harrison.com</td>\n",
       "      <td>NaT</td>\n",
       "      <td>51625.814403</td>\n",
       "      <td>Marketing</td>\n",
       "    </tr>\n",
       "    <tr>\n",
       "      <th>16</th>\n",
       "      <td>16</td>\n",
       "      <td>241e20d7-cc36-495e-86c2-2928bbaa93d8</td>\n",
       "      <td>Mark Wilkins</td>\n",
       "      <td>NaN</td>\n",
       "      <td>longjennifer@parker.biz</td>\n",
       "      <td>NaT</td>\n",
       "      <td>85794.000000</td>\n",
       "      <td>SalesX</td>\n",
       "    </tr>\n",
       "    <tr>\n",
       "      <th>18</th>\n",
       "      <td>18</td>\n",
       "      <td>05e36d3f-6422-4329-80b2-1fd3543ee254</td>\n",
       "      <td>NaN</td>\n",
       "      <td>NaN</td>\n",
       "      <td>NaN</td>\n",
       "      <td>NaT</td>\n",
       "      <td>NaN</td>\n",
       "      <td>NaN</td>\n",
       "    </tr>\n",
       "    <tr>\n",
       "      <th>...</th>\n",
       "      <td>...</td>\n",
       "      <td>...</td>\n",
       "      <td>...</td>\n",
       "      <td>...</td>\n",
       "      <td>...</td>\n",
       "      <td>...</td>\n",
       "      <td>...</td>\n",
       "      <td>...</td>\n",
       "    </tr>\n",
       "    <tr>\n",
       "      <th>10979</th>\n",
       "      <td>8355</td>\n",
       "      <td>7939aed0-f594-4119-bc25-897a1cc03b4d</td>\n",
       "      <td>Kathryn Hayneslight</td>\n",
       "      <td>53.0</td>\n",
       "      <td>bakeradrian@ramirez.biz</td>\n",
       "      <td>NaT</td>\n",
       "      <td>104067.064555</td>\n",
       "      <td>Support</td>\n",
       "    </tr>\n",
       "    <tr>\n",
       "      <th>10988</th>\n",
       "      <td>6403</td>\n",
       "      <td>4edd1e6e-cfb5-4300-9c74-e9642836e134</td>\n",
       "      <td>NaN</td>\n",
       "      <td>NaN</td>\n",
       "      <td>NaN</td>\n",
       "      <td>NaT</td>\n",
       "      <td>NaN</td>\n",
       "      <td>NaN</td>\n",
       "    </tr>\n",
       "    <tr>\n",
       "      <th>10993</th>\n",
       "      <td>9510</td>\n",
       "      <td>796f8c0b-15a4-475c-bb02-ac892df0c746</td>\n",
       "      <td>Shelley Hopkinslive</td>\n",
       "      <td>79.0</td>\n",
       "      <td>Michael Walker</td>\n",
       "      <td>NaT</td>\n",
       "      <td>47809.000000</td>\n",
       "      <td>HR</td>\n",
       "    </tr>\n",
       "    <tr>\n",
       "      <th>10995</th>\n",
       "      <td>6523</td>\n",
       "      <td>07c223be-03e6-4f70-a2b5-86df778cc61a</td>\n",
       "      <td>NaN</td>\n",
       "      <td>NaN</td>\n",
       "      <td>NaN</td>\n",
       "      <td>NaT</td>\n",
       "      <td>NaN</td>\n",
       "      <td>NaN</td>\n",
       "    </tr>\n",
       "    <tr>\n",
       "      <th>10997</th>\n",
       "      <td>7826</td>\n",
       "      <td>ed19c966-d6d8-4047-b410-b6e595a39340</td>\n",
       "      <td>Stephanie Riossell</td>\n",
       "      <td>NaN</td>\n",
       "      <td>robert96@pollard-frye.com</td>\n",
       "      <td>NaT</td>\n",
       "      <td>122609.594149</td>\n",
       "      <td>HR</td>\n",
       "    </tr>\n",
       "  </tbody>\n",
       "</table>\n",
       "<p>2641 rows × 8 columns</p>\n",
       "</div>"
      ],
      "text/plain": [
       "       Unnamed: 0                                    ID                 Name  \\\n",
       "5               5  f92ea13f-24d3-4792-91e4-5b0e07d90c2c          Lisa Bailey   \n",
       "10             10  d5fe9321-49cf-4f14-ac96-7aea1204247b         Craig Conway   \n",
       "14             14  9b83a5e5-9516-493f-86f8-d6c445edb501      Nicole Cardenas   \n",
       "16             16  241e20d7-cc36-495e-86c2-2928bbaa93d8         Mark Wilkins   \n",
       "18             18  05e36d3f-6422-4329-80b2-1fd3543ee254                  NaN   \n",
       "...           ...                                   ...                  ...   \n",
       "10979        8355  7939aed0-f594-4119-bc25-897a1cc03b4d  Kathryn Hayneslight   \n",
       "10988        6403  4edd1e6e-cfb5-4300-9c74-e9642836e134                  NaN   \n",
       "10993        9510  796f8c0b-15a4-475c-bb02-ac892df0c746  Shelley Hopkinslive   \n",
       "10995        6523  07c223be-03e6-4f70-a2b5-86df778cc61a                  NaN   \n",
       "10997        7826  ed19c966-d6d8-4047-b410-b6e595a39340   Stephanie Riossell   \n",
       "\n",
       "        Age                         Email Join Date         Salary  \\\n",
       "5      81.0  milleryvonne@fowler-york.com       NaT  123018.000000   \n",
       "10     88.0    gerald47@woodard-smith.com       NaT   81214.525972   \n",
       "14     60.0     griffinlinda@harrison.com       NaT   51625.814403   \n",
       "16      NaN       longjennifer@parker.biz       NaT   85794.000000   \n",
       "18      NaN                           NaN       NaT            NaN   \n",
       "...     ...                           ...       ...            ...   \n",
       "10979  53.0       bakeradrian@ramirez.biz       NaT  104067.064555   \n",
       "10988   NaN                           NaN       NaT            NaN   \n",
       "10993  79.0                Michael Walker       NaT   47809.000000   \n",
       "10995   NaN                           NaN       NaT            NaN   \n",
       "10997   NaN     robert96@pollard-frye.com       NaT  122609.594149   \n",
       "\n",
       "        Department  \n",
       "5         SupportE  \n",
       "10     Engineering  \n",
       "14       Marketing  \n",
       "16          SalesX  \n",
       "18             NaN  \n",
       "...            ...  \n",
       "10979      Support  \n",
       "10988          NaN  \n",
       "10993           HR  \n",
       "10995          NaN  \n",
       "10997           HR  \n",
       "\n",
       "[2641 rows x 8 columns]"
      ]
     },
     "execution_count": 9,
     "metadata": {},
     "output_type": "execute_result"
    }
   ],
   "source": [
    "df[df['Join Date'].isnull()]\n"
   ]
  },
  {
   "cell_type": "code",
   "execution_count": 10,
   "id": "40d308ec-b439-4571-96b4-4257beb263c4",
   "metadata": {},
   "outputs": [
    {
     "data": {
      "text/plain": [
       "array([nan, 'Engineering', 'SupportJ', 'SupportE', 'HR', 'Marketing',\n",
       "       'SalesX', 'Supportu', 'Engineeringi', 'MarketingR', 'Sales',\n",
       "       'MarketingU', 'Salesi', 'HRa', 'Support', 'SalesG', 'SalesN',\n",
       "       'Marketingv', 'EngineeringL', 'Salesj', 'Marketingr', 'HRW', 'HRt',\n",
       "       'HRz', 'EngineeringS', 'SupportW', 'EngineeringT', 'SupportC',\n",
       "       'Marketingn', 'SupportB', 'HRi', 'Engineeringp', 'Supportg',\n",
       "       'SupportQ', 'Salesr', 'Supporto', 'Marketingw', 'EngineeringM',\n",
       "       'Salesy', 'Marketingm', 'HRw', 'Marketingo', 'EngineeringH',\n",
       "       'MarketingN', 'EngineeringD', 'Marketingp', 'Marketingz',\n",
       "       'MarketingI', 'SupportT', 'Salesz', 'Marketingt', 'SupportS',\n",
       "       'HRv', 'EngineeringR', 'MarketingQ', 'HRD', 'Saless', 'Salesn',\n",
       "       'Engineeringl', 'SalesE', 'MarketingO', 'SalesD', 'HRy',\n",
       "       'Engineerings', 'SalesI', 'Salesu', 'Supportk', 'MarketingE',\n",
       "       'Marketingk', 'SalesA', 'SupportA', 'Supporte', 'Engineeringu',\n",
       "       'EngineeringO', 'SalesS', 'SalesK', 'HRK', 'Engineeringb',\n",
       "       'SalesV', 'SupportY', 'SalesQ', 'Supportp', 'HRr', 'MarketingX',\n",
       "       'Marketingf', 'HRU', 'MarketingH', 'SalesF', 'Salesq',\n",
       "       'EngineeringV', 'SupportO', 'MarketingD', 'MarketingF',\n",
       "       'EngineeringC', 'Engineeringe', 'Engineeringz', 'HRP', 'Salesv',\n",
       "       'HRI', 'Marketingh', 'SupportH', 'HRL', 'HRm', 'Supportr',\n",
       "       'Supportd', 'HRZ', 'Supportj', 'HRE', 'Marketingl', 'MarketingZ',\n",
       "       'Engineeringg', 'Salesc', 'EngineeringJ', 'SalesR', 'Engineeringh',\n",
       "       'SupportX', 'Engineeringt', 'Marketingg', 'EngineeringG', 'SalesH',\n",
       "       'SupportV', 'HRq', 'Marketingb', 'Engineeringc', 'HRs', 'Supportw',\n",
       "       'SupportL', 'Marketings', 'Salese', 'HRX', 'EngineeringE',\n",
       "       'MarketingG', 'SupportP', 'HRf', 'MarketingB', 'Engineeringf',\n",
       "       'EngineeringW', 'Engineeringy', 'Marketinga', 'MarketingC', 'HRd',\n",
       "       'Engineeringx', 'HRA', 'HRp', 'SalesZ', 'Supporta', 'MarketingV',\n",
       "       'EngineeringK', 'HRY', 'EngineeringZ', 'MarketingY', 'HRM',\n",
       "       'Marketingx', 'EngineeringX', 'Supporti', 'HRO', 'SalesY', 'HRN',\n",
       "       'Supportb', 'HRg', 'SalesT', 'Engineeringa', 'Salesl',\n",
       "       'Engineeringq', 'SupportG', 'SalesB', 'Engineeringd', 'MarketingT',\n",
       "       'HRR', 'Engineeringw', 'HRh', 'SupportZ', 'Marketingc', 'HRl',\n",
       "       'SupportK', 'Supportn', 'Marketingd', 'EngineeringU', 'Supportx',\n",
       "       'Salesp', 'Salesk', 'HRu', 'MarketingK', 'HRb', 'Supports', 'HRQ',\n",
       "       'HRC', 'Marketingj', 'EngineeringI', 'HRT', 'HRB', 'MarketingM',\n",
       "       'Marketingq', 'Engineeringr', 'EngineeringF', 'SalesJ', 'HRF',\n",
       "       'SalesU', 'Supporty', 'Supportm', 'SupportU', 'Marketingy',\n",
       "       'Marketinge', 'Supportf', 'SupportM', 'Engineeringv', 'HRG',\n",
       "       'Supportt', 'Salesd', 'SalesL', 'HRH', 'HRe', 'HRJ',\n",
       "       'EngineeringN', 'Engineeringj', 'HRV', 'HRk', 'HRS', 'SalesP',\n",
       "       'Supportc', 'MarketingS', 'Engineeringm', 'Engineeringn',\n",
       "       'EngineeringP', 'MarketingJ', 'SalesM', 'SupportI', 'Saleso',\n",
       "       'SupportD', 'Salesf', 'HRj', 'SupportF', 'Supportl', 'Salesw',\n",
       "       'Salesg', 'SupportR', 'HRo', 'Engineeringo', 'Engineeringk',\n",
       "       'Salesm', 'Salesa', 'MarketingW', 'Marketingu', 'EngineeringQ',\n",
       "       'Supporth', 'Marketingi', 'Supportq', 'EngineeringA', 'SalesO',\n",
       "       'Supportv', 'Supportz', 'SalesC', 'MarketingP', 'MarketingL',\n",
       "       'HRc'], dtype=object)"
      ]
     },
     "execution_count": 10,
     "metadata": {},
     "output_type": "execute_result"
    }
   ],
   "source": [
    "# View unique department names\n",
    "df['Department'].unique()"
   ]
  },
  {
   "cell_type": "code",
   "execution_count": 11,
   "id": "9fde2bed-7069-4ad6-b345-7534fa2cb9d1",
   "metadata": {},
   "outputs": [],
   "source": [
    "# Replace typos with correct names\n",
    "df['Department'] = df['Department'].replace({\n",
    "    'Hr': 'HR',\n",
    "    'Engneering': 'Engineering',\n",
    "    'Marketng': 'Marketing',\n",
    "    'Saless': 'Sales',\n",
    "    'Supporrt': 'Support'\n",
    "})\n"
   ]
  },
  {
   "cell_type": "code",
   "execution_count": 38,
   "id": "0b5dc151-6b47-46b9-a6f4-1fb59e611327",
   "metadata": {},
   "outputs": [
    {
     "name": "stderr",
     "output_type": "stream",
     "text": [
      "<>:2: SyntaxWarning: invalid escape sequence '\\$'\n",
      "<>:2: SyntaxWarning: invalid escape sequence '\\$'\n",
      "C:\\Users\\Hp\\AppData\\Local\\Temp\\ipykernel_14000\\1424777428.py:2: SyntaxWarning: invalid escape sequence '\\$'\n",
      "  df['Salary'] = df['Salary'].replace('[\\$,]', '', regex=True).astype(float)\n"
     ]
    },
    {
     "data": {
      "text/html": [
       "<div>\n",
       "<style scoped>\n",
       "    .dataframe tbody tr th:only-of-type {\n",
       "        vertical-align: middle;\n",
       "    }\n",
       "\n",
       "    .dataframe tbody tr th {\n",
       "        vertical-align: top;\n",
       "    }\n",
       "\n",
       "    .dataframe thead th {\n",
       "        text-align: right;\n",
       "    }\n",
       "</style>\n",
       "<table border=\"1\" class=\"dataframe\">\n",
       "  <thead>\n",
       "    <tr style=\"text-align: right;\">\n",
       "      <th></th>\n",
       "      <th>Unnamed: 0</th>\n",
       "      <th>ID</th>\n",
       "      <th>Name</th>\n",
       "      <th>Age</th>\n",
       "      <th>Email</th>\n",
       "      <th>Join Date</th>\n",
       "      <th>Salary</th>\n",
       "      <th>Department</th>\n",
       "    </tr>\n",
       "  </thead>\n",
       "  <tbody>\n",
       "  </tbody>\n",
       "</table>\n",
       "</div>"
      ],
      "text/plain": [
       "Empty DataFrame\n",
       "Columns: [Unnamed: 0, ID, Name, Age, Email, Join Date, Salary, Department]\n",
       "Index: []"
      ]
     },
     "execution_count": 38,
     "metadata": {},
     "output_type": "execute_result"
    }
   ],
   "source": [
    "# Remove currency symbols or commas\n",
    "df['Salary'] = df['Salary'].replace('[\\$,]', '', regex=True).astype(float)\n",
    "\n",
    "# Check for outliers\n",
    "df['Salary'].describe()\n",
    "df[df['Salary'] > 300000]\n"
   ]
  },
  {
   "cell_type": "code",
   "execution_count": 13,
   "id": "e8ba4bab-ebb2-4186-ab3c-ceba16ca01f9",
   "metadata": {},
   "outputs": [],
   "source": [
    "# Remove duplicate rows\n",
    "df = df.drop_duplicates()"
   ]
  },
  {
   "cell_type": "code",
   "execution_count": 14,
   "id": "212a71ca-1d71-4dbc-95e3-54f3b31f2666",
   "metadata": {},
   "outputs": [
    {
     "name": "stdout",
     "output_type": "stream",
     "text": [
      "Missing values per column:\n",
      "Unnamed: 0       0\n",
      "ID               0\n",
      "Name          1635\n",
      "Age           1339\n",
      "Email         1092\n",
      "Join Date     2452\n",
      "Salary        1591\n",
      "Department    1610\n",
      "dtype: int64\n"
     ]
    }
   ],
   "source": [
    "print(\"Missing values per column:\")\n",
    "print(df.isnull().sum())"
   ]
  },
  {
   "cell_type": "code",
   "execution_count": 15,
   "id": "b9a6c7f5-e2c4-4dfd-a154-17a905616760",
   "metadata": {},
   "outputs": [
    {
     "name": "stdout",
     "output_type": "stream",
     "text": [
      "\n",
      "Duplicate rows:\n",
      "0\n"
     ]
    }
   ],
   "source": [
    "# Duplicates\n",
    "print(\"\\nDuplicate rows:\")\n",
    "print(df.duplicated().sum())"
   ]
  },
  {
   "cell_type": "code",
   "execution_count": 17,
   "id": "845329b1-373a-483a-8f66-af316815dddc",
   "metadata": {},
   "outputs": [
    {
     "data": {
      "text/plain": [
       "4817                       NaN\n",
       "1488                       NaN\n",
       "3391                       NaN\n",
       "1900             Deanna Harris\n",
       "3212               David White\n",
       "3882              David Cooper\n",
       "4444    Edward Bennettresource\n",
       "908                        NaN\n",
       "5467                   Amy Key\n",
       "5293          Alyssa Fernandez\n",
       "Name: Name, dtype: object"
      ]
     },
     "execution_count": 17,
     "metadata": {},
     "output_type": "execute_result"
    }
   ],
   "source": [
    "# Check noisy name field\n",
    "df['Name'].sample(10)"
   ]
  },
  {
   "cell_type": "code",
   "execution_count": 18,
   "id": "46bdb318-16a5-42c6-b4d4-7fb2a3236b90",
   "metadata": {},
   "outputs": [],
   "source": [
    "# Drop rows where 'Join Date' is missing\n",
    "df = df.dropna(subset=['Join Date'])"
   ]
  },
  {
   "cell_type": "code",
   "execution_count": 19,
   "id": "1c67eb6f-201b-4802-b904-f0b7b273ef49",
   "metadata": {},
   "outputs": [
    {
     "name": "stdout",
     "output_type": "stream",
     "text": [
      "Missing values:\n",
      "Unnamed: 0      0\n",
      "ID              0\n",
      "Name          392\n",
      "Age           174\n",
      "Email           0\n",
      "Join Date       0\n",
      "Salary        376\n",
      "Department    384\n",
      "dtype: int64\n"
     ]
    }
   ],
   "source": [
    "print(\"Missing values:\")\n",
    "print(df.isnull().sum())\n"
   ]
  },
  {
   "cell_type": "code",
   "execution_count": 21,
   "id": "c83fd907-c8fd-480b-8eff-f38b42fdd665",
   "metadata": {},
   "outputs": [],
   "source": [
    "\n",
    "df['Age'] = df['Age'].fillna(df['Age'].mean())\n"
   ]
  },
  {
   "cell_type": "code",
   "execution_count": 22,
   "id": "0adbec0d-eacc-4aa1-ad25-14b73926df51",
   "metadata": {},
   "outputs": [],
   "source": [
    "#  Drop rows with missing Salary\n",
    "df = df.dropna(subset=['Salary'])\n"
   ]
  },
  {
   "cell_type": "code",
   "execution_count": 23,
   "id": "9020e1c5-8570-412c-8891-0ed6045f72c3",
   "metadata": {},
   "outputs": [],
   "source": [
    "df['Department'] = df['Department'].fillna('Unknown')\n"
   ]
  },
  {
   "cell_type": "code",
   "execution_count": 24,
   "id": "bd65c7bb-24ec-4556-9d97-656248770828",
   "metadata": {},
   "outputs": [],
   "source": [
    "df = df.dropna(subset=['Email'])\n"
   ]
  },
  {
   "cell_type": "code",
   "execution_count": 25,
   "id": "b9a0dc4e-d042-47d8-8bde-2120b877b469",
   "metadata": {},
   "outputs": [
    {
     "name": "stdout",
     "output_type": "stream",
     "text": [
      "Remaining nulls:\n",
      " Unnamed: 0      0\n",
      "ID              0\n",
      "Name          352\n",
      "Age             0\n",
      "Email           0\n",
      "Join Date       0\n",
      "Salary          0\n",
      "Department      0\n",
      "dtype: int64\n"
     ]
    }
   ],
   "source": [
    "# Confirm all missing values are handled\n",
    "print(\"Remaining nulls:\\n\", df.isnull().sum())\n"
   ]
  },
  {
   "cell_type": "code",
   "execution_count": 26,
   "id": "3452c93b-89aa-4430-9018-fd4fc14e8564",
   "metadata": {},
   "outputs": [
    {
     "name": "stdout",
     "output_type": "stream",
     "text": [
      "Missing IDs: 0\n"
     ]
    }
   ],
   "source": [
    "# Check for missing IDs\n",
    "print(\"Missing IDs:\", df['ID'].isnull().sum())\n"
   ]
  },
  {
   "cell_type": "code",
   "execution_count": 27,
   "id": "836c8cd6-5caf-4ff1-9ee9-44753fb936c7",
   "metadata": {},
   "outputs": [
    {
     "name": "stdout",
     "output_type": "stream",
     "text": [
      "Duplicate IDs: 179\n"
     ]
    }
   ],
   "source": [
    "# Check for duplicate IDs\n",
    "print(\"Duplicate IDs:\", df['ID'].duplicated().sum())\n"
   ]
  },
  {
   "cell_type": "code",
   "execution_count": 28,
   "id": "0eb20a77-493b-444a-b6f9-5b8ccd7f37ab",
   "metadata": {},
   "outputs": [
    {
     "data": {
      "text/html": [
       "<div>\n",
       "<style scoped>\n",
       "    .dataframe tbody tr th:only-of-type {\n",
       "        vertical-align: middle;\n",
       "    }\n",
       "\n",
       "    .dataframe tbody tr th {\n",
       "        vertical-align: top;\n",
       "    }\n",
       "\n",
       "    .dataframe thead th {\n",
       "        text-align: right;\n",
       "    }\n",
       "</style>\n",
       "<table border=\"1\" class=\"dataframe\">\n",
       "  <thead>\n",
       "    <tr style=\"text-align: right;\">\n",
       "      <th></th>\n",
       "      <th>Unnamed: 0</th>\n",
       "      <th>ID</th>\n",
       "      <th>Name</th>\n",
       "      <th>Age</th>\n",
       "      <th>Email</th>\n",
       "      <th>Join Date</th>\n",
       "      <th>Salary</th>\n",
       "      <th>Department</th>\n",
       "    </tr>\n",
       "  </thead>\n",
       "  <tbody>\n",
       "  </tbody>\n",
       "</table>\n",
       "</div>"
      ],
      "text/plain": [
       "Empty DataFrame\n",
       "Columns: [Unnamed: 0, ID, Name, Age, Email, Join Date, Salary, Department]\n",
       "Index: []"
      ]
     },
     "execution_count": 28,
     "metadata": {},
     "output_type": "execute_result"
    }
   ],
   "source": [
    "# Show suspicious names\n",
    "df[df['Name'].str.contains(r'[^a-zA-Z\\s]', na=False)]"
   ]
  },
  {
   "cell_type": "code",
   "execution_count": 31,
   "id": "24aab155-8599-494b-914d-dff636332f34",
   "metadata": {},
   "outputs": [
    {
     "data": {
      "text/html": [
       "<div>\n",
       "<style scoped>\n",
       "    .dataframe tbody tr th:only-of-type {\n",
       "        vertical-align: middle;\n",
       "    }\n",
       "\n",
       "    .dataframe tbody tr th {\n",
       "        vertical-align: top;\n",
       "    }\n",
       "\n",
       "    .dataframe thead th {\n",
       "        text-align: right;\n",
       "    }\n",
       "</style>\n",
       "<table border=\"1\" class=\"dataframe\">\n",
       "  <thead>\n",
       "    <tr style=\"text-align: right;\">\n",
       "      <th></th>\n",
       "      <th>Unnamed: 0</th>\n",
       "      <th>ID</th>\n",
       "      <th>Name</th>\n",
       "      <th>Age</th>\n",
       "      <th>Email</th>\n",
       "      <th>Join Date</th>\n",
       "      <th>Salary</th>\n",
       "      <th>Department</th>\n",
       "    </tr>\n",
       "  </thead>\n",
       "  <tbody>\n",
       "  </tbody>\n",
       "</table>\n",
       "</div>"
      ],
      "text/plain": [
       "Empty DataFrame\n",
       "Columns: [Unnamed: 0, ID, Name, Age, Email, Join Date, Salary, Department]\n",
       "Index: []"
      ]
     },
     "execution_count": 31,
     "metadata": {},
     "output_type": "execute_result"
    }
   ],
   "source": [
    "# Check short or missing names\n",
    "df[df['Name'].str.len() < 3]"
   ]
  },
  {
   "cell_type": "code",
   "execution_count": 32,
   "id": "a83c4af9-eeed-453e-880b-b0611bc97808",
   "metadata": {},
   "outputs": [
    {
     "data": {
      "text/plain": [
       "count    3269.000000\n",
       "mean       54.028529\n",
       "std        20.487701\n",
       "min        18.000000\n",
       "25%        37.000000\n",
       "50%        53.957073\n",
       "75%        71.000000\n",
       "max        90.000000\n",
       "Name: Age, dtype: float64"
      ]
     },
     "execution_count": 32,
     "metadata": {},
     "output_type": "execute_result"
    }
   ],
   "source": [
    "# Check age range\n",
    "df['Age'].describe()"
   ]
  },
  {
   "cell_type": "code",
   "execution_count": 33,
   "id": "1cfe0382-63e6-4d63-9c92-173f66a0648e",
   "metadata": {},
   "outputs": [
    {
     "data": {
      "text/html": [
       "<div>\n",
       "<style scoped>\n",
       "    .dataframe tbody tr th:only-of-type {\n",
       "        vertical-align: middle;\n",
       "    }\n",
       "\n",
       "    .dataframe tbody tr th {\n",
       "        vertical-align: top;\n",
       "    }\n",
       "\n",
       "    .dataframe thead th {\n",
       "        text-align: right;\n",
       "    }\n",
       "</style>\n",
       "<table border=\"1\" class=\"dataframe\">\n",
       "  <thead>\n",
       "    <tr style=\"text-align: right;\">\n",
       "      <th></th>\n",
       "      <th>Unnamed: 0</th>\n",
       "      <th>ID</th>\n",
       "      <th>Name</th>\n",
       "      <th>Age</th>\n",
       "      <th>Email</th>\n",
       "      <th>Join Date</th>\n",
       "      <th>Salary</th>\n",
       "      <th>Department</th>\n",
       "    </tr>\n",
       "  </thead>\n",
       "  <tbody>\n",
       "  </tbody>\n",
       "</table>\n",
       "</div>"
      ],
      "text/plain": [
       "Empty DataFrame\n",
       "Columns: [Unnamed: 0, ID, Name, Age, Email, Join Date, Salary, Department]\n",
       "Index: []"
      ]
     },
     "execution_count": 33,
     "metadata": {},
     "output_type": "execute_result"
    }
   ],
   "source": [
    "# Show extreme ages\n",
    "df[(df['Age'] < 15) | (df['Age'] > 100)]\n"
   ]
  },
  {
   "cell_type": "code",
   "execution_count": 37,
   "id": "cd349d3b-39d3-4696-ba67-5fa71c61b103",
   "metadata": {},
   "outputs": [],
   "source": [
    "# Remove formatting if needed\n",
    "df['Salary'] = pd.to_numeric(df['Salary'], errors='coerce')"
   ]
  },
  {
   "cell_type": "code",
   "execution_count": 39,
   "id": "838c9748-4ee4-41f3-b092-ff1801f9d8d2",
   "metadata": {},
   "outputs": [
    {
     "data": {
      "text/plain": [
       "dtype('float64')"
      ]
     },
     "execution_count": 39,
     "metadata": {},
     "output_type": "execute_result"
    }
   ],
   "source": [
    "df['Age'].dtype\n"
   ]
  },
  {
   "cell_type": "code",
   "execution_count": 40,
   "id": "cdf9eac1-4f9a-449d-b344-3281f8a334bc",
   "metadata": {},
   "outputs": [],
   "source": [
    "df['Age'] = pd.to_numeric(df['Age'], errors='coerce')\n"
   ]
  },
  {
   "cell_type": "code",
   "execution_count": 41,
   "id": "95030115-0807-4a4f-81a5-4398d8416f79",
   "metadata": {},
   "outputs": [
    {
     "data": {
      "text/plain": [
       "count    3269.000000\n",
       "mean       54.028529\n",
       "std        20.487701\n",
       "min        18.000000\n",
       "25%        37.000000\n",
       "50%        53.957073\n",
       "75%        71.000000\n",
       "max        90.000000\n",
       "Name: Age, dtype: float64"
      ]
     },
     "execution_count": 41,
     "metadata": {},
     "output_type": "execute_result"
    }
   ],
   "source": [
    "df['Age'].describe()\n"
   ]
  },
  {
   "cell_type": "code",
   "execution_count": 42,
   "id": "786ddbfa-dc11-4f27-ad7c-091f443cdbc3",
   "metadata": {},
   "outputs": [
    {
     "data": {
      "text/html": [
       "<div>\n",
       "<style scoped>\n",
       "    .dataframe tbody tr th:only-of-type {\n",
       "        vertical-align: middle;\n",
       "    }\n",
       "\n",
       "    .dataframe tbody tr th {\n",
       "        vertical-align: top;\n",
       "    }\n",
       "\n",
       "    .dataframe thead th {\n",
       "        text-align: right;\n",
       "    }\n",
       "</style>\n",
       "<table border=\"1\" class=\"dataframe\">\n",
       "  <thead>\n",
       "    <tr style=\"text-align: right;\">\n",
       "      <th></th>\n",
       "      <th>Unnamed: 0</th>\n",
       "      <th>ID</th>\n",
       "      <th>Name</th>\n",
       "      <th>Age</th>\n",
       "      <th>Email</th>\n",
       "      <th>Join Date</th>\n",
       "      <th>Salary</th>\n",
       "      <th>Department</th>\n",
       "    </tr>\n",
       "  </thead>\n",
       "  <tbody>\n",
       "    <tr>\n",
       "      <th>1</th>\n",
       "      <td>1</td>\n",
       "      <td>379f55b8-87d5-4739-a146-7400b78c24d1</td>\n",
       "      <td>Jeremy Irwin</td>\n",
       "      <td>90.0</td>\n",
       "      <td>Jillian Jenkins</td>\n",
       "      <td>2022-07-07</td>\n",
       "      <td>139227.000000</td>\n",
       "      <td>Unknown</td>\n",
       "    </tr>\n",
       "    <tr>\n",
       "      <th>2</th>\n",
       "      <td>2</td>\n",
       "      <td>18261368-dfa1-47f0-afc6-bddf45926b07</td>\n",
       "      <td>Jennifer Hammondquickly</td>\n",
       "      <td>66.0</td>\n",
       "      <td>jscottgreen.biz</td>\n",
       "      <td>2023-11-21</td>\n",
       "      <td>65550.000000</td>\n",
       "      <td>Engineering</td>\n",
       "    </tr>\n",
       "    <tr>\n",
       "      <th>45</th>\n",
       "      <td>45</td>\n",
       "      <td>46a21acd-2b80-465b-86ca-0ccc90deb565</td>\n",
       "      <td>William Avila</td>\n",
       "      <td>77.0</td>\n",
       "      <td>kevin62smith.info</td>\n",
       "      <td>2022-11-30</td>\n",
       "      <td>118575.000000</td>\n",
       "      <td>Salesi</td>\n",
       "    </tr>\n",
       "    <tr>\n",
       "      <th>49</th>\n",
       "      <td>49</td>\n",
       "      <td>08a2c469-4d0a-4474-9adc-b080966e2130</td>\n",
       "      <td>Richard Collins</td>\n",
       "      <td>68.0</td>\n",
       "      <td>michaelhernandez@lee.com</td>\n",
       "      <td>2021-05-12</td>\n",
       "      <td>65728.000000</td>\n",
       "      <td>Unknown</td>\n",
       "    </tr>\n",
       "    <tr>\n",
       "      <th>51</th>\n",
       "      <td>51</td>\n",
       "      <td>f9d66dd9-4481-447b-9218-e280165ca091</td>\n",
       "      <td>John Bailey</td>\n",
       "      <td>69.0</td>\n",
       "      <td>robbinsfelicia@nelson.com</td>\n",
       "      <td>2020-09-30</td>\n",
       "      <td>39784.000000</td>\n",
       "      <td>Support</td>\n",
       "    </tr>\n",
       "    <tr>\n",
       "      <th>...</th>\n",
       "      <td>...</td>\n",
       "      <td>...</td>\n",
       "      <td>...</td>\n",
       "      <td>...</td>\n",
       "      <td>...</td>\n",
       "      <td>...</td>\n",
       "      <td>...</td>\n",
       "      <td>...</td>\n",
       "    </tr>\n",
       "    <tr>\n",
       "      <th>10904</th>\n",
       "      <td>7318</td>\n",
       "      <td>7e18652d-bd89-47ae-86b3-f1e5127f70a0</td>\n",
       "      <td>Jessica Mccann</td>\n",
       "      <td>73.0</td>\n",
       "      <td>wellis@alvarez.biz</td>\n",
       "      <td>2023-11-17</td>\n",
       "      <td>75720.000000</td>\n",
       "      <td>Sales</td>\n",
       "    </tr>\n",
       "    <tr>\n",
       "      <th>10943</th>\n",
       "      <td>7925</td>\n",
       "      <td>7f6aaa62-19f0-49c9-aeea-8ee7134b6b19</td>\n",
       "      <td>Scott Jones</td>\n",
       "      <td>89.0</td>\n",
       "      <td>dwayne98@hahn.com</td>\n",
       "      <td>2021-03-27</td>\n",
       "      <td>93275.000000</td>\n",
       "      <td>Sales</td>\n",
       "    </tr>\n",
       "    <tr>\n",
       "      <th>10955</th>\n",
       "      <td>182</td>\n",
       "      <td>c863225f-96ab-4baf-8f3c-edadef3aa9a6</td>\n",
       "      <td>Cynthia Bell</td>\n",
       "      <td>84.0</td>\n",
       "      <td>norrisamy@perez.com</td>\n",
       "      <td>2020-09-21</td>\n",
       "      <td>123116.121215</td>\n",
       "      <td>Support</td>\n",
       "    </tr>\n",
       "    <tr>\n",
       "      <th>10986</th>\n",
       "      <td>1558</td>\n",
       "      <td>a09fc4c8-eca3-4eec-bd4c-64540dcd2f7e</td>\n",
       "      <td>Madison Mclaughlin</td>\n",
       "      <td>74.0</td>\n",
       "      <td>lorraineestrada@morgan.org</td>\n",
       "      <td>2024-03-24</td>\n",
       "      <td>50557.049244</td>\n",
       "      <td>Marketing</td>\n",
       "    </tr>\n",
       "    <tr>\n",
       "      <th>10991</th>\n",
       "      <td>9603</td>\n",
       "      <td>612011e6-101d-4ee2-bbca-16a5056d8217</td>\n",
       "      <td>Jeffrey Elliottnation</td>\n",
       "      <td>72.0</td>\n",
       "      <td>jpatterson@wise.org</td>\n",
       "      <td>2021-08-05</td>\n",
       "      <td>50510.777098</td>\n",
       "      <td>Support</td>\n",
       "    </tr>\n",
       "  </tbody>\n",
       "</table>\n",
       "<p>1053 rows × 8 columns</p>\n",
       "</div>"
      ],
      "text/plain": [
       "       Unnamed: 0                                    ID  \\\n",
       "1               1  379f55b8-87d5-4739-a146-7400b78c24d1   \n",
       "2               2  18261368-dfa1-47f0-afc6-bddf45926b07   \n",
       "45             45  46a21acd-2b80-465b-86ca-0ccc90deb565   \n",
       "49             49  08a2c469-4d0a-4474-9adc-b080966e2130   \n",
       "51             51  f9d66dd9-4481-447b-9218-e280165ca091   \n",
       "...           ...                                   ...   \n",
       "10904        7318  7e18652d-bd89-47ae-86b3-f1e5127f70a0   \n",
       "10943        7925  7f6aaa62-19f0-49c9-aeea-8ee7134b6b19   \n",
       "10955         182  c863225f-96ab-4baf-8f3c-edadef3aa9a6   \n",
       "10986        1558  a09fc4c8-eca3-4eec-bd4c-64540dcd2f7e   \n",
       "10991        9603  612011e6-101d-4ee2-bbca-16a5056d8217   \n",
       "\n",
       "                          Name   Age                       Email  Join Date  \\\n",
       "1                 Jeremy Irwin  90.0             Jillian Jenkins 2022-07-07   \n",
       "2      Jennifer Hammondquickly  66.0             jscottgreen.biz 2023-11-21   \n",
       "45               William Avila  77.0           kevin62smith.info 2022-11-30   \n",
       "49             Richard Collins  68.0    michaelhernandez@lee.com 2021-05-12   \n",
       "51                 John Bailey  69.0   robbinsfelicia@nelson.com 2020-09-30   \n",
       "...                        ...   ...                         ...        ...   \n",
       "10904           Jessica Mccann  73.0          wellis@alvarez.biz 2023-11-17   \n",
       "10943              Scott Jones  89.0           dwayne98@hahn.com 2021-03-27   \n",
       "10955             Cynthia Bell  84.0         norrisamy@perez.com 2020-09-21   \n",
       "10986       Madison Mclaughlin  74.0  lorraineestrada@morgan.org 2024-03-24   \n",
       "10991    Jeffrey Elliottnation  72.0         jpatterson@wise.org 2021-08-05   \n",
       "\n",
       "              Salary   Department  \n",
       "1      139227.000000      Unknown  \n",
       "2       65550.000000  Engineering  \n",
       "45     118575.000000       Salesi  \n",
       "49      65728.000000      Unknown  \n",
       "51      39784.000000      Support  \n",
       "...              ...          ...  \n",
       "10904   75720.000000        Sales  \n",
       "10943   93275.000000        Sales  \n",
       "10955  123116.121215      Support  \n",
       "10986   50557.049244    Marketing  \n",
       "10991   50510.777098      Support  \n",
       "\n",
       "[1053 rows x 8 columns]"
      ]
     },
     "execution_count": 42,
     "metadata": {},
     "output_type": "execute_result"
    }
   ],
   "source": [
    "df[(df['Age'] < 15) | (df['Age'] > 65)]\n"
   ]
  },
  {
   "cell_type": "code",
   "execution_count": 43,
   "id": "9c838cab-551b-4fad-b033-0e58d11382a4",
   "metadata": {},
   "outputs": [],
   "source": [
    "df = df[(df['Age'] >= 15) & (df['Age'] <= 65)]\n"
   ]
  },
  {
   "cell_type": "code",
   "execution_count": 44,
   "id": "387c99fd-d428-4602-ae1a-15679d093a6a",
   "metadata": {},
   "outputs": [
    {
     "name": "stdout",
     "output_type": "stream",
     "text": [
      "Personal emails: 0\n"
     ]
    },
    {
     "data": {
      "text/html": [
       "<div>\n",
       "<style scoped>\n",
       "    .dataframe tbody tr th:only-of-type {\n",
       "        vertical-align: middle;\n",
       "    }\n",
       "\n",
       "    .dataframe tbody tr th {\n",
       "        vertical-align: top;\n",
       "    }\n",
       "\n",
       "    .dataframe thead th {\n",
       "        text-align: right;\n",
       "    }\n",
       "</style>\n",
       "<table border=\"1\" class=\"dataframe\">\n",
       "  <thead>\n",
       "    <tr style=\"text-align: right;\">\n",
       "      <th></th>\n",
       "      <th>Unnamed: 0</th>\n",
       "      <th>ID</th>\n",
       "      <th>Name</th>\n",
       "      <th>Age</th>\n",
       "      <th>Email</th>\n",
       "      <th>Join Date</th>\n",
       "      <th>Salary</th>\n",
       "      <th>Department</th>\n",
       "    </tr>\n",
       "  </thead>\n",
       "  <tbody>\n",
       "  </tbody>\n",
       "</table>\n",
       "</div>"
      ],
      "text/plain": [
       "Empty DataFrame\n",
       "Columns: [Unnamed: 0, ID, Name, Age, Email, Join Date, Salary, Department]\n",
       "Index: []"
      ]
     },
     "execution_count": 44,
     "metadata": {},
     "output_type": "execute_result"
    }
   ],
   "source": [
    "# Check for personal emails\n",
    "personal_emails = df[df['Email'].str.contains(r'gmail|yahoo|hotmail|rediff', case=False, na=False)]\n",
    "print(\"Personal emails:\", personal_emails.shape[0])\n",
    "personal_emails.head()\n"
   ]
  },
  {
   "cell_type": "code",
   "execution_count": 46,
   "id": "91117271-ba6a-46cf-ac1c-88596618e14e",
   "metadata": {},
   "outputs": [
    {
     "data": {
      "text/html": [
       "<div>\n",
       "<style scoped>\n",
       "    .dataframe tbody tr th:only-of-type {\n",
       "        vertical-align: middle;\n",
       "    }\n",
       "\n",
       "    .dataframe tbody tr th {\n",
       "        vertical-align: top;\n",
       "    }\n",
       "\n",
       "    .dataframe thead th {\n",
       "        text-align: right;\n",
       "    }\n",
       "</style>\n",
       "<table border=\"1\" class=\"dataframe\">\n",
       "  <thead>\n",
       "    <tr style=\"text-align: right;\">\n",
       "      <th></th>\n",
       "      <th>Unnamed: 0</th>\n",
       "      <th>ID</th>\n",
       "      <th>Name</th>\n",
       "      <th>Age</th>\n",
       "      <th>Email</th>\n",
       "      <th>Join Date</th>\n",
       "      <th>Salary</th>\n",
       "      <th>Department</th>\n",
       "    </tr>\n",
       "  </thead>\n",
       "  <tbody>\n",
       "  </tbody>\n",
       "</table>\n",
       "</div>"
      ],
      "text/plain": [
       "Empty DataFrame\n",
       "Columns: [Unnamed: 0, ID, Name, Age, Email, Join Date, Salary, Department]\n",
       "Index: []"
      ]
     },
     "execution_count": 46,
     "metadata": {},
     "output_type": "execute_result"
    }
   ],
   "source": [
    "df[df['Name'].str.len() > 30].head()"
   ]
  },
  {
   "cell_type": "code",
   "execution_count": 47,
   "id": "b123e87d-ec47-439b-8778-71aff86954d9",
   "metadata": {},
   "outputs": [],
   "source": [
    "df = df.drop_duplicates(subset='ID', keep='first')\n"
   ]
  },
  {
   "cell_type": "code",
   "execution_count": 48,
   "id": "d7cb3bac-41ab-4886-b3ff-f8d4571aba16",
   "metadata": {},
   "outputs": [],
   "source": [
    "df['Age'] = pd.to_numeric(df['Age'], errors='coerce')"
   ]
  },
  {
   "cell_type": "code",
   "execution_count": 49,
   "id": "07c6ecff-19a6-45a1-95e5-139d18dcf437",
   "metadata": {},
   "outputs": [],
   "source": [
    "df = df[(df['Age'] >= 15) & (df['Age'] <= 65)]"
   ]
  },
  {
   "cell_type": "code",
   "execution_count": 52,
   "id": "1b8a89a2-3142-446b-ab83-a5ca65d94955",
   "metadata": {},
   "outputs": [],
   "source": [
    "df = df[df['Email'].str.contains(r'^[\\w\\.-]+@[\\w\\.-]+\\.\\w+$', na=False)]"
   ]
  },
  {
   "cell_type": "code",
   "execution_count": 53,
   "id": "c833740a-8e64-4d39-a1de-5e7d77f70434",
   "metadata": {},
   "outputs": [],
   "source": [
    "df = df[~df['Email'].str.contains('gmail|yahoo|hotmail|rediff', case=False, na=False)]"
   ]
  },
  {
   "cell_type": "code",
   "execution_count": 54,
   "id": "5cf6eb19-4aa2-40b6-b32f-c916981aa1bd",
   "metadata": {},
   "outputs": [],
   "source": [
    "# Fix typos\n",
    "df['Department'] = df['Department'].replace({\n",
    "    'Hr': 'HR',\n",
    "    'HRv' : 'HR',\n",
    "    'Engneering': 'Engineering',\n",
    "    'EngineeringT' : 'Engineering',\n",
    "    'Marketng': 'Marketing',\n",
    "    'MarketingR' : 'Marketing',\n",
    "    'SalesA' : 'Sales',\n",
    "    'Saless': 'Sales',\n",
    "    'Supporrt': 'Support',\n",
    "    'SupportJ': 'Support'\n",
    "})"
   ]
  },
  {
   "cell_type": "code",
   "execution_count": 55,
   "id": "43a78595-e8d2-4ad6-ac20-075dc64ed1c8",
   "metadata": {},
   "outputs": [],
   "source": [
    "df['Department'] = df['Department'].fillna('Unknown')\n"
   ]
  },
  {
   "cell_type": "code",
   "execution_count": 56,
   "id": "525c755a-3725-4077-9e20-d8c928596c7c",
   "metadata": {},
   "outputs": [],
   "source": [
    "df['Name'] = df['Name'].str.replace(r'[^a-zA-Z\\s]', '', regex=True)\n",
    "df['Name'] = df['Name'].str.strip().str.title()\n"
   ]
  },
  {
   "cell_type": "code",
   "execution_count": 57,
   "id": "c13d1241-c119-4b9b-befd-cbf17839198d",
   "metadata": {},
   "outputs": [],
   "source": [
    "df['Join Date'] = pd.to_datetime(df['Join Date'], errors='coerce')\n",
    "df = df.dropna(subset=['Join Date'])\n"
   ]
  },
  {
   "cell_type": "code",
   "execution_count": 58,
   "id": "0b1eee54-ed95-4e77-981d-231e7a8e485a",
   "metadata": {},
   "outputs": [],
   "source": [
    "df['Salary'] = pd.to_numeric(df['Salary'], errors='coerce')"
   ]
  },
  {
   "cell_type": "code",
   "execution_count": 59,
   "id": "ab33badf-f44b-4e78-8e8d-441481baf58f",
   "metadata": {},
   "outputs": [],
   "source": [
    "df = df[(df['Salary'] >= 1000) & (df['Salary'] <= 300000)]"
   ]
  },
  {
   "cell_type": "code",
   "execution_count": 60,
   "id": "6142a164-4fb0-40b1-bfe3-02710a7930d3",
   "metadata": {},
   "outputs": [
    {
     "name": "stdout",
     "output_type": "stream",
     "text": [
      "Missing names (NaN): 168\n",
      "Empty or space-only names: 0\n"
     ]
    }
   ],
   "source": [
    "print(\"Missing names (NaN):\", df['Name'].isnull().sum())\n",
    "\n",
    "print(\"Empty or space-only names:\",\n",
    "      df['Name'].apply(lambda x: isinstance(x, str) and x.strip() == \"\").sum())"
   ]
  },
  {
   "cell_type": "code",
   "execution_count": 61,
   "id": "4564a1e4-dc91-4c04-89a0-03e83758f7a9",
   "metadata": {},
   "outputs": [],
   "source": [
    " # remove NaN\n",
    "df = df[df['Name'].notnull()] \n",
    " # remove empty or spaces\n",
    "df = df[df['Name'].str.strip() != \"\"]            "
   ]
  },
  {
   "cell_type": "code",
   "execution_count": 62,
   "id": "59fb5a5a-2a4b-4ef9-b651-785d2b1dfb21",
   "metadata": {},
   "outputs": [],
   "source": [
    "# Clean and format names\n",
    "df['Name'] = df['Name'].str.replace(r'[^a-zA-Z\\s]', '', regex=True)  # remove symbols/numbers\n",
    "df['Name'] = df['Name'].str.strip().str.title()\n"
   ]
  },
  {
   "cell_type": "code",
   "execution_count": 63,
   "id": "63952352-cab1-474e-8459-a6c6efcaf175",
   "metadata": {},
   "outputs": [
    {
     "data": {
      "text/plain": [
       "9                     Jay Fisher\n",
       "42               Kayla Carpenter\n",
       "43                 Laura Douglas\n",
       "63          Mrs Sheri Duffyparty\n",
       "90     Mrs Betty Robinsonmission\n",
       "97                  Steven Kirby\n",
       "99                  Nicholas May\n",
       "108                   Stacy Cruz\n",
       "109                 Kevin Fowler\n",
       "110                   Sydney Cox\n",
       "Name: Name, dtype: object"
      ]
     },
     "execution_count": 63,
     "metadata": {},
     "output_type": "execute_result"
    }
   ],
   "source": [
    "df['Name'].head(10)\n"
   ]
  },
  {
   "cell_type": "code",
   "execution_count": 64,
   "id": "396a444d-ee64-43f1-bd5f-62b783cc1eda",
   "metadata": {},
   "outputs": [],
   "source": [
    "df['Name'] = df['Name'].fillna('Unknown')\n",
    "df['Name'] = df['Name'].apply(lambda x: 'Unknown' if str(x).strip() == '' else x)"
   ]
  },
  {
   "cell_type": "code",
   "execution_count": 65,
   "id": "b72bcfa0-77eb-443a-8a36-fa24f0dd6350",
   "metadata": {},
   "outputs": [
    {
     "data": {
      "text/plain": [
       "Name\n",
       "Joseph Rodriguez         2\n",
       "Laura Walker             2\n",
       "Jennifer Lee             2\n",
       "Steven Jones             2\n",
       "James Price              2\n",
       "Daniel Garcia            1\n",
       "Mary Fields              1\n",
       "Mr Patrick Davis         1\n",
       "Robert Mendozaservice    1\n",
       "Kristin Mcconnell        1\n",
       "Name: count, dtype: int64"
      ]
     },
     "execution_count": 65,
     "metadata": {},
     "output_type": "execute_result"
    }
   ],
   "source": [
    "# Preview cleaned names\n",
    "df['Name'].value_counts().head(10)\n"
   ]
  },
  {
   "cell_type": "code",
   "execution_count": 66,
   "id": "8bd7d9a7-45c7-43fa-a204-7aa586be99e2",
   "metadata": {},
   "outputs": [],
   "source": [
    "# Save latest cleaned data\n",
    "df.to_csv('../data/cleaned_dataset.csv', index=False)\n"
   ]
  },
  {
   "cell_type": "code",
   "execution_count": 67,
   "id": "7c2cb4bb-2777-4b95-8db2-a49a05db9619",
   "metadata": {},
   "outputs": [],
   "source": [
    "df['Age'] = pd.to_numeric(df['Age'], errors='coerce')\n",
    "df = df[df['Age'] % 1 == 0]\n",
    "df['Age'] = df['Age'].astype('Int64')\n"
   ]
  },
  {
   "cell_type": "code",
   "execution_count": 69,
   "id": "38672d6e-51a9-41d9-a821-22b0a97d97c6",
   "metadata": {},
   "outputs": [],
   "source": [
    "import re"
   ]
  },
  {
   "cell_type": "code",
   "execution_count": 70,
   "id": "3623817e-4346-4de0-9d97-726cecc6f03b",
   "metadata": {},
   "outputs": [],
   "source": [
    "df['Name'] = df['Name'].str.replace(r'^(mr|mrs|ms|dr)\\s+', '', flags=re.IGNORECASE, regex=True)"
   ]
  },
  {
   "cell_type": "code",
   "execution_count": 71,
   "id": "dab0bffb-df65-4563-8d59-058e0cff9d4e",
   "metadata": {},
   "outputs": [],
   "source": [
    "df['Name'] = df['Name'].str.replace(r'(party|mission|company|office)$', '', flags=re.IGNORECASE, regex=True)"
   ]
  },
  {
   "cell_type": "code",
   "execution_count": 72,
   "id": "5de2b0e2-4bd1-4ea3-9a15-1dd14e8cabbc",
   "metadata": {},
   "outputs": [],
   "source": [
    "df['Name'] = df['Name'].str.strip().str.title()\n"
   ]
  },
  {
   "cell_type": "code",
   "execution_count": 73,
   "id": "bd4ede84-a212-4e2e-8d5b-7faed4a21260",
   "metadata": {},
   "outputs": [],
   "source": [
    "df.to_csv('../data/cleaned_dataset.csv', index=False)"
   ]
  },
  {
   "cell_type": "code",
   "execution_count": 74,
   "id": "6ad18aa5-18ad-476e-911a-ea534f6d56a7",
   "metadata": {},
   "outputs": [],
   "source": [
    "df['Salary'] = pd.to_numeric(df['Salary'], errors='coerce')\n",
    "df = df[df['Salary'] % 1 == 0]  # Keep only whole numbers\n",
    "df['Salary'] = df['Salary'].astype('Int64')  # Convert to integer\n"
   ]
  },
  {
   "cell_type": "code",
   "execution_count": 75,
   "id": "6f1ae33b-707b-43eb-a982-95a7dc9d07bf",
   "metadata": {},
   "outputs": [],
   "source": [
    "df.to_csv('../data/cleaned_dataset.csv', index=False)\n"
   ]
  },
  {
   "cell_type": "code",
   "execution_count": null,
   "id": "ae954159-0f8b-4ced-af1c-9e65abbb316f",
   "metadata": {},
   "outputs": [],
   "source": []
  }
 ],
 "metadata": {
  "kernelspec": {
   "display_name": "Python 3 (ipykernel)",
   "language": "python",
   "name": "python3"
  },
  "language_info": {
   "codemirror_mode": {
    "name": "ipython",
    "version": 3
   },
   "file_extension": ".py",
   "mimetype": "text/x-python",
   "name": "python",
   "nbconvert_exporter": "python",
   "pygments_lexer": "ipython3",
   "version": "3.13.5"
  }
 },
 "nbformat": 4,
 "nbformat_minor": 5
}
